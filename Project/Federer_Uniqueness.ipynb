{
 "cells": [
  {
   "cell_type": "code",
   "execution_count": 1,
   "metadata": {},
   "outputs": [],
   "source": [
    "import pandas as pd\n",
    "import numpy as np"
   ]
  },
  {
   "cell_type": "markdown",
   "metadata": {},
   "source": [
    "## Federer Uniqueness"
   ]
  },
  {
   "cell_type": "code",
   "execution_count": 2,
   "metadata": {},
   "outputs": [],
   "source": [
    "df_federer_baseline = pd.read_excel(\"Forms/Forms csv- extra 2/Federer_Uniqueness.xlsx\")\n",
    "# df_federer_baseline.head()"
   ]
  },
  {
   "cell_type": "code",
   "execution_count": 3,
   "metadata": {},
   "outputs": [],
   "source": [
    "df_federer_baseline.rename(columns={'How old are you?': 'age', 'What is your gender?': 'gender', \n",
    "                   'What is your education level:': 'education', \n",
    "                   'Your transcription:' : 'transcription_1', 'Do you want to quit?': 'quit_4'}, \n",
    "          inplace=True)\n",
    "for i in range(1, 30):\n",
    "    df_federer_baseline.rename(columns={f'Your transcription:.{i}': f'transcription_{i+1}', \n",
    "                       f'Do you want to quit?.{i}': f'quit_{i+1+3}'}, inplace=True)\n",
    "df_federer_baseline.rename(columns={'This task did not hold my attention at all.': 'enjoyment_1', \n",
    "                   'While I was doing this task, I was thinking about how much I enjoyed it.': 'enjoyment_2', \n",
    "                  'This task was fun to do.': 'enjoyment_3', 'I thought this was a boring task.': 'enjoyment_4',\n",
    "                  'I think I did pretty well at this task, compared to other participants.': 'competence_1', \n",
    "                  'After working on this task for a while, I felt pretty competent.': 'competence_2', \n",
    "                  'This is a task that I couldnג€™t do very well.': 'competence_3', \n",
    "                   'I didnג€™t put much energy into this task.': 'effort_1', \n",
    "                  'It was important to me to do well at this task.': 'effort_2', \n",
    "                  }, \n",
    "          inplace=True)\n",
    "# TODO: reverse order of negative questions- enjoyment_1, enjoyment_4, competence_3, effort_1 ()"
   ]
  },
  {
   "cell_type": "code",
   "execution_count": 4,
   "metadata": {},
   "outputs": [
    {
     "name": "stdout",
     "output_type": "stream",
     "text": [
      "Index(['age', 'gender', 'What is your Education Level:', 'transcription_1',\n",
      "       'transcription_2', 'transcription_3', 'transcription_4', 'quit_4',\n",
      "       'transcription_5', 'quit_5', 'transcription_6', 'quit_6',\n",
      "       'transcription_7', 'quit_7', 'transcription_8', 'quit_8',\n",
      "       'transcription_9', 'quit_9', 'transcription_10', 'quit_10',\n",
      "       'transcription_11', 'quit_11', 'transcription_12', 'quit_12',\n",
      "       'transcription_13', 'quit_13', 'transcription_14', 'quit_14',\n",
      "       'transcription_15', 'quit_15', 'transcription_16', 'quit_16',\n",
      "       'transcription_17', 'quit_17', 'transcription_18', 'quit_18',\n",
      "       'transcription_19', 'quit_19', 'transcription_20', 'quit_20',\n",
      "       'transcription_21', 'quit_21', 'transcription_22', 'quit_22',\n",
      "       'transcription_23', 'quit_23', 'transcription_24', 'quit_24',\n",
      "       'transcription_25', 'quit_25', 'transcription_26', 'quit_26',\n",
      "       'transcription_27', 'quit_27', 'transcription_28', 'quit_28',\n",
      "       'transcription_29', 'quit_29', 'transcription_30', 'quit_30',\n",
      "       'enjoyment_1', 'enjoyment_2', 'enjoyment_3', 'enjoyment_4',\n",
      "       'competence_1', 'competence_2', 'competence_3', 'effort_1', 'effort_2',\n",
      "       'Did you choose to stop before reaching the end (i.e., the 30th task)? If so, why?',\n",
      "       ' Did you stop as soon as you first thought of stopping? If not, why did you persist and continue doing more tasks?'],\n",
      "      dtype='object')\n"
     ]
    }
   ],
   "source": [
    "print(df_federer_baseline.columns)"
   ]
  },
  {
   "cell_type": "code",
   "execution_count": 5,
   "metadata": {},
   "outputs": [],
   "source": [
    "for i in range(4,31):\n",
    "    df_federer_baseline = df_federer_baseline.replace({f'quit_{i}': {'Yes': 1, 'No': 0}})"
   ]
  },
  {
   "cell_type": "code",
   "execution_count": 6,
   "metadata": {},
   "outputs": [
    {
     "name": "stdout",
     "output_type": "stream",
     "text": [
      "{0: 3, 1: 8, 2: 12, 3: 4, 4: 3, 5: 11, 6: 11, 7: 16, 8: 30}\n"
     ]
    }
   ],
   "source": [
    "quit_indexes = {}\n",
    "for index,row in df_federer_baseline.iterrows():\n",
    "    quit = 0\n",
    "    for i in range(4,31):\n",
    "        if row[f'quit_{i}'] == 1:\n",
    "            quit = 1\n",
    "            if isinstance(row[f'transcription_{i}'], float):\n",
    "                quit_indexes[index] = i - 1\n",
    "            else:\n",
    "                quit_indexes[index] = i\n",
    "    if quit == 0:\n",
    "        quit_indexes[index] = 30\n",
    "quit_indexes_list = list(quit_indexes.values())\n",
    "df_federer_baseline['quit_index'] = quit_indexes_list\n",
    "df_federer_baseline.to_csv(\"New Forms/Federer_Uniqueness_New.csv\")\n",
    "print(quit_indexes)"
   ]
  },
  {
   "cell_type": "code",
   "execution_count": 7,
   "metadata": {},
   "outputs": [
    {
     "name": "stdout",
     "output_type": "stream",
     "text": [
      "the percentage of workers how completed al 30 task in the uniqueness version is: 11.11111111111111%\n",
      "the mean of quit indexes is: 10.88888888888889\n",
      "the std of quit indexes is: 8.462334849857402\n",
      "the median of quit indexes is: 11.0\n"
     ]
    }
   ],
   "source": [
    "workers_num = len(df_federer_baseline)\n",
    "comp_workers = len(df_federer_baseline[df_federer_baseline['quit_index'] == 30])\n",
    "percentage_comp = comp_workers / workers_num * 100\n",
    "print (f'the percentage of workers how completed al 30 task in the uniqueness version is: {percentage_comp}%' )\n",
    "mean = df_federer_baseline['quit_index'].mean()\n",
    "print (f'the mean of quit indexes is: {mean}')\n",
    "std = df_federer_baseline['quit_index'].std()\n",
    "print (f'the std of quit indexes is: {std}')\n",
    "median = df_federer_baseline['quit_index'].median()\n",
    "print (f'the median of quit indexes is: {median}')"
   ]
  }
 ],
 "metadata": {
  "kernelspec": {
   "display_name": "Python 3",
   "language": "python",
   "name": "python3"
  },
  "language_info": {
   "codemirror_mode": {
    "name": "ipython",
    "version": 3
   },
   "file_extension": ".py",
   "mimetype": "text/x-python",
   "name": "python",
   "nbconvert_exporter": "python",
   "pygments_lexer": "ipython3",
   "version": "3.8.8"
  }
 },
 "nbformat": 4,
 "nbformat_minor": 2
}
