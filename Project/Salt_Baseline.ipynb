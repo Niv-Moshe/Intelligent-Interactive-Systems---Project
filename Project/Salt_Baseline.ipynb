{
 "cells": [
  {
   "cell_type": "code",
   "execution_count": 1,
   "metadata": {},
   "outputs": [],
   "source": [
    "import pandas as pd\n",
    "import numpy as np"
   ]
  },
  {
   "cell_type": "markdown",
   "metadata": {},
   "source": [
    "## Federer Baseline"
   ]
  },
  {
   "cell_type": "code",
   "execution_count": 2,
   "metadata": {},
   "outputs": [],
   "source": [
    "df_federer_baseline = pd.read_excel(\"Forms/Forms csv- Salt/Salt_Baseline.xlsx\")\n",
    "# df_federer_baseline.head()"
   ]
  },
  {
   "cell_type": "code",
   "execution_count": 3,
   "metadata": {},
   "outputs": [],
   "source": [
    "df_federer_baseline.rename(columns={'How old are you?': 'age', 'What is your gender?': 'gender', \n",
    "                   'What is your education level:': 'education', \n",
    "                   'Your transcription:' : 'transcription_1', 'Do you want to quit?': 'quit_4'}, \n",
    "          inplace=True)\n",
    "for i in range(1, 30):\n",
    "    df_federer_baseline.rename(columns={f'Your transcription:.{i}': f'transcription_{i+1}', \n",
    "                       f'Do you want to quit?.{i}': f'quit_{i+1+3}'}, inplace=True)\n",
    "df_federer_baseline.rename(columns={'This task did not hold my attention at all.': 'enjoyment_1', \n",
    "                   'While I was doing this task, I was thinking about how much I enjoyed it.': 'enjoyment_2', \n",
    "                  'This task was fun to do.': 'enjoyment_3', 'I thought this was a boring task.': 'enjoyment_4',\n",
    "                  'I think I did pretty well at this task, compared to other participants.': 'competence_1', \n",
    "                  'After working on this task for a while, I felt pretty competent.': 'competence_2', \n",
    "                  'This is a task that I couldnג€™t do very well.': 'competence_3', \n",
    "                   'I didnג€™t put much energy into this task.': 'effort_1', \n",
    "                  'It was important to me to do well at this task.': 'effort_2', \n",
    "                  }, \n",
    "          inplace=True)\n",
    "# TODO: reverse order of negative questions- enjoyment_1, enjoyment_4, competence_3, effort_1 ()"
   ]
  },
  {
   "cell_type": "code",
   "execution_count": 4,
   "metadata": {},
   "outputs": [],
   "source": [
    "for i in range(4,31):\n",
    "    df_federer_baseline = df_federer_baseline.replace({f'quit_{i}': {'Yes': 1, 'No': 0}})"
   ]
  },
  {
   "cell_type": "code",
   "execution_count": 5,
   "metadata": {},
   "outputs": [
    {
     "name": "stdout",
     "output_type": "stream",
     "text": [
      "{0: 11, 1: 4, 2: 4, 3: 10, 4: 6, 5: 8, 6: 30, 7: 4, 8: 4, 9: 4}\n"
     ]
    }
   ],
   "source": [
    "quit_indexes = {}\n",
    "for index,row in df_federer_baseline.iterrows():\n",
    "    quit = 0\n",
    "    for i in range(4,31):\n",
    "        if row[f'quit_{i}'] == 1:\n",
    "            quit = 1\n",
    "            quit_indexes[index] = i\n",
    "    if quit == 0:\n",
    "        quit_indexes[index] = 30\n",
    "quit_indexes_list = list(quit_indexes.values())\n",
    "df_federer_baseline['quit_index'] = quit_indexes_list\n",
    "df_federer_baseline.to_csv(\"New Forms/Salt_Baseline_New.csv\")\n",
    "print(quit_indexes)"
   ]
  },
  {
   "cell_type": "markdown",
   "metadata": {},
   "source": [
    "# workers who completed all 30 tasks"
   ]
  },
  {
   "cell_type": "code",
   "execution_count": 6,
   "metadata": {},
   "outputs": [
    {
     "name": "stdout",
     "output_type": "stream",
     "text": [
      "the percentage of workers how completed al 30 task in the baseline version is: 10.0%\n",
      "the mean of quit indexes is: 8.5\n",
      "the std of quit indexes is: 8.017342313870461\n",
      "the median of quit indexes is: 5.0\n"
     ]
    }
   ],
   "source": [
    "workers_num = len(df_federer_baseline)\n",
    "comp_workers = len(df_federer_baseline[df_federer_baseline['quit_index'] == 30])\n",
    "percentage_comp = comp_workers / workers_num * 100\n",
    "print (f'the percentage of workers how completed al 30 task in the baseline version is: {percentage_comp}%' )\n",
    "mean = df_federer_baseline['quit_index'].mean()\n",
    "print (f'the mean of quit indexes is: {mean}')\n",
    "std = df_federer_baseline['quit_index'].std()\n",
    "print (f'the std of quit indexes is: {std}')\n",
    "median = df_federer_baseline['quit_index'].median()\n",
    "print (f'the median of quit indexes is: {median}')"
   ]
  },
  {
   "cell_type": "code",
   "execution_count": null,
   "metadata": {},
   "outputs": [],
   "source": []
  }
 ],
 "metadata": {
  "kernelspec": {
   "display_name": "Python 3",
   "language": "python",
   "name": "python3"
  },
  "language_info": {
   "codemirror_mode": {
    "name": "ipython",
    "version": 3
   },
   "file_extension": ".py",
   "mimetype": "text/x-python",
   "name": "python",
   "nbconvert_exporter": "python",
   "pygments_lexer": "ipython3",
   "version": "3.8.8"
  }
 },
 "nbformat": 4,
 "nbformat_minor": 2
}
