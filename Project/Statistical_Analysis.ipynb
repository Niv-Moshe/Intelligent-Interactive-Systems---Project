{
 "cells": [
  {
   "cell_type": "code",
   "execution_count": 1,
   "id": "275c0af0",
   "metadata": {},
   "outputs": [
    {
     "name": "stderr",
     "output_type": "stream",
     "text": [
      "/Users/shavit/opt/anaconda3/envs/env_full/lib/python3.9/site-packages/statsmodels/tsa/base/tsa_model.py:7: FutureWarning: pandas.Int64Index is deprecated and will be removed from pandas in a future version. Use pandas.Index with the appropriate dtype instead.\n",
      "  from pandas import (to_datetime, Int64Index, DatetimeIndex, Period,\n",
      "/Users/shavit/opt/anaconda3/envs/env_full/lib/python3.9/site-packages/statsmodels/tsa/base/tsa_model.py:7: FutureWarning: pandas.Float64Index is deprecated and will be removed from pandas in a future version. Use pandas.Index with the appropriate dtype instead.\n",
      "  from pandas import (to_datetime, Int64Index, DatetimeIndex, Period,\n",
      "/Users/shavit/opt/anaconda3/envs/env_full/lib/python3.9/site-packages/thefuzz/fuzz.py:11: UserWarning: Using slow pure-python SequenceMatcher. Install python-Levenshtein to remove this warning\n",
      "  warnings.warn('Using slow pure-python SequenceMatcher. Install python-Levenshtein to remove this warning')\n"
     ]
    }
   ],
   "source": [
    "import pandas as pd\n",
    "import numpy as np\n",
    "import matplotlib.pyplot as plt\n",
    "from scipy.stats import f_oneway\n",
    "from collections import defaultdict\n",
    "from statsmodels.stats.proportion import proportions_ztest, proportions_chisquare\n",
    "import statsmodels.api as sm\n",
    "import statsmodels.formula.api as smf\n",
    "from scipy import stats\n",
    "import statistics\n",
    "import string\n",
    "from thefuzz import fuzz\n",
    "import seaborn as sns\n",
    "from dython import nominal\n",
    "from dython.nominal import associations\n",
    "from sklearn.model_selection import train_test_split\n",
    "from scipy.stats import f"
   ]
  },
  {
   "cell_type": "code",
   "execution_count": 2,
   "id": "4295f48d",
   "metadata": {},
   "outputs": [],
   "source": [
    "# federer\n",
    "df_federer_baseline = pd.read_csv(\"New Forms/Federer_Baseline_New.csv\")\n",
    "df_federer_question = pd.read_csv(\"New Forms/Federer_Question_only_New.csv\")\n",
    "df_federer_narrative = pd.read_csv(\"New Forms/Federer_Narrative_New.csv\")\n",
    "\n",
    "df_federer_uniqueness = pd.read_csv(\"New Forms/Federer_Uniqueness_New.csv\")\n",
    "df_federer_benefit = pd.read_csv(\"New Forms/Federer_Benefit_to_others_New.csv\")\n",
    "\n",
    "# health- salt\n",
    "df_salt_baseline = pd.read_csv(\"New Forms/Salt_Baseline_New.csv\")\n",
    "df_salt_question = pd.read_csv(\"New Forms/Salt_Question_only_New.csv\")\n",
    "df_salt_narrative = pd.read_csv(\"New Forms/Salt_Narrative_New.csv\")"
   ]
  },
  {
   "cell_type": "code",
   "execution_count": 3,
   "id": "8a110a2a",
   "metadata": {},
   "outputs": [],
   "source": [
    "# federer\n",
    "quit_index_baseline = df_federer_baseline[\"quit_index\"].to_list()\n",
    "quit_index_question = df_federer_question[\"quit_index\"].to_list()\n",
    "quit_index_narrative = df_federer_narrative[\"quit_index\"].to_list()\n",
    "\n",
    "quit_index_uniqueness = df_federer_uniqueness[\"quit_index\"].to_list()\n",
    "quit_index_benefit = df_federer_benefit[\"quit_index\"].to_list()\n",
    "\n",
    "# health- salt\n",
    "quit_index_salt_baseline = df_salt_baseline[\"quit_index\"].to_list()\n",
    "quit_index_salt_question = df_salt_question[\"quit_index\"].to_list()\n",
    "quit_index_salt_narrative = df_salt_narrative[\"quit_index\"].to_list()"
   ]
  },
  {
   "cell_type": "markdown",
   "id": "e998ff70",
   "metadata": {},
   "source": [
    "# Curiosity"
   ]
  },
  {
   "cell_type": "markdown",
   "id": "586b4735",
   "metadata": {},
   "source": [
    "## Hypothesis 1"
   ]
  },
  {
   "cell_type": "markdown",
   "id": "c0d32302",
   "metadata": {},
   "source": [
    "### One Way ANOVA Test"
   ]
  },
  {
   "cell_type": "code",
   "execution_count": 4,
   "id": "eaa4cdda",
   "metadata": {},
   "outputs": [
    {
     "name": "stdout",
     "output_type": "stream",
     "text": [
      "the F stat is: 1.868761809407233 and the pval is: 0.17242749168064814\n"
     ]
    }
   ],
   "source": [
    "anova_one_way = f_oneway(quit_index_baseline, quit_index_question, quit_index_narrative)\n",
    "F_stat, pval = anova_one_way\n",
    "print(f'the F stat is: {F_stat} and the pval is: {pval}')\n",
    "# print(anova_one_way)"
   ]
  },
  {
   "cell_type": "markdown",
   "id": "37cb07d7",
   "metadata": {},
   "source": [
    "### Histogram"
   ]
  },
  {
   "cell_type": "code",
   "execution_count": 5,
   "id": "bbefb46e",
   "metadata": {},
   "outputs": [
    {
     "data": {
      "image/png": "[encoded data removed]",
      "text/plain": [
       "<Figure size 460.8x345.6 with 1 Axes>"
      ]
     },
     "metadata": {
      "needs_background": "light"
     },
     "output_type": "display_data"
    }
   ],
   "source": [
    "plt.figure(figsize=(6.4, 4.8))\n",
    "plt.xlabel(\"Quit Index\", fontsize=16)\n",
    "plt.ylabel(\"Number of Workers\", fontsize=16)\n",
    "plt.xticks(np.arange(0, 31, step=5), fontsize=12)\n",
    "plt.yticks(np.arange(0, 20, step=1), fontsize=12)\n",
    "plt.ylim(top=15, bottom=0)\n",
    "types = ['baseline', 'question only', 'narrative']\n",
    "n, bins, patches = plt.hist([quit_index_baseline, quit_index_question, quit_index_narrative], bins=range(1,32), align='left', \n",
    "                            rwidth=1, stacked=True, density=False, label=types)\n",
    "plt.title('Number of workers who quit in each experimental condition', fontsize=16)\n",
    "plt.legend()\n",
    "axes = plt.gca()\n",
    "axes.yaxis.grid()\n",
    "plt.margins(0)\n",
    "plt.show();"
   ]
  },
  {
   "cell_type": "markdown",
   "id": "4c910a5a",
   "metadata": {},
   "source": [
    "### Retention Curves"
   ]
  },
  {
   "cell_type": "code",
   "execution_count": 6,
   "id": "46bd9229",
   "metadata": {},
   "outputs": [
    {
     "name": "stdout",
     "output_type": "stream",
     "text": [
      "list_quit_index_sum=[0, 0, 0, 14, 1, 2, 1, 5, 0, 1, 0, 0, 0, 0, 0, 0, 0, 0, 0, 0, 0, 0, 0, 0, 0, 0, 0, 0, 0, 6]\n",
      "most common quiting indexes overall are: 4,6,8\n",
      "baseline: 4- 5, 6- 1, 8- 2\n",
      "question only: 4- 3, 6- 1, 8- 2\n",
      "narrative: 4- 6, 6- 0, 8- 1\n",
      "\n",
      "Remaining percantages for Baseline: \n",
      "[100.0, 100.0, 100.0, 100.0, 50.0, 50.0, 40.0, 30.0, 10.0, 10.0, 0.0, 0.0, 0.0, 0.0, 0.0, 0.0, 0.0, 0.0, 0.0, 0.0, 0.0, 0.0, 0.0, 0.0, 0.0, 0.0, 0.0, 0.0, 0.0, 0.0]\n",
      "Remaining percantages for Question: \n",
      "[100.0, 100.0, 100.0, 100.0, 72.727, 63.636, 54.545, 54.545, 36.364, 36.364, 36.364, 36.364, 27.273, 27.273, 27.273, 27.273, 27.273, 27.273, 27.273, 27.273, 27.273, 27.273, 27.273, 27.273, 27.273, 27.273, 27.273, 27.273, 27.273, 27.273]\n",
      "Remaining percantages for Narrative: \n",
      "[100.0, 100.0, 100.0, 100.0, 45.455, 45.455, 45.455, 45.455, 36.364, 36.364, 36.364, 36.364, 36.364, 36.364, 36.364, 36.364, 36.364, 36.364, 36.364, 36.364, 36.364, 36.364, 36.364, 36.364, 36.364, 36.364, 36.364, 36.364, 36.364, 36.364]\n"
     ]
    }
   ],
   "source": [
    "zipped_lists = zip(quit_index_baseline, quit_index_question, quit_index_narrative)\n",
    "quit_index_sum = defaultdict(lambda:0)\n",
    "quit_index_sum_baseline = defaultdict(lambda:0)\n",
    "quit_index_sum_question = defaultdict(lambda:0)\n",
    "quit_index_sum_narrative = defaultdict(lambda:0)\n",
    "for (x, y, z) in zipped_lists:\n",
    "    quit_index_sum[x] += 1\n",
    "    quit_index_sum[y] += 1\n",
    "    quit_index_sum[z] += 1\n",
    "for x in quit_index_baseline:\n",
    "    quit_index_sum_baseline[x] += 1\n",
    "for y in quit_index_question:\n",
    "    quit_index_sum_question[y] += 1\n",
    "for z in quit_index_narrative:\n",
    "    quit_index_sum_narrative[z] += 1\n",
    "\n",
    "list_quit_index_sum = []\n",
    "for i in range(1,31):\n",
    "    list_quit_index_sum.append(quit_index_sum[i])\n",
    "\n",
    "print(f\"{list_quit_index_sum=}\")\n",
    "print(f'most common quiting indexes overall are: 4,6,8')\n",
    "print(f'baseline: 4- {quit_index_sum_baseline[4]}, 6- {quit_index_sum_baseline[6]}, 8- {quit_index_sum_baseline[8]}')\n",
    "print(f'question only: 4- {quit_index_sum_question[4]}, 6- {quit_index_sum_question[6]}, 8- {quit_index_sum_question[8]}')\n",
    "print(f'narrative: 4- {quit_index_sum_narrative[4]}, 6- {quit_index_sum_narrative[6]}, 8- {quit_index_sum_narrative[8]}')\n",
    "# print(quit_index_sum_baseline)\n",
    "# print(quit_index_sum_question)\n",
    "# print(quit_index_sum_narrative)\n",
    "\n",
    "list_quit_index_baseline_prec = []\n",
    "list_quit_index_question_prec = []\n",
    "list_quit_index_narrative_prec = []\n",
    "\n",
    "workers_num_baseline = len(df_federer_baseline)\n",
    "workers_num_question = len(df_federer_question)\n",
    "workers_num_narrative = len(df_federer_narrative)\n",
    "\n",
    "for i in range(1,31):\n",
    "    if i>1:\n",
    "        list_quit_index_baseline_prec.append((quit_index_sum_baseline[i]+list_quit_index_baseline_prec[-1]))\n",
    "        list_quit_index_question_prec.append((quit_index_sum_question[i]+list_quit_index_question_prec[-1]))\n",
    "        list_quit_index_narrative_prec.append((quit_index_sum_narrative[i]+list_quit_index_narrative_prec[-1]))\n",
    "\n",
    "    else:\n",
    "        list_quit_index_baseline_prec.append(quit_index_sum_baseline[i])\n",
    "        list_quit_index_question_prec.append(quit_index_sum_question[i])\n",
    "        list_quit_index_narrative_prec.append(quit_index_sum_narrative[i])\n",
    "\n",
    "# fixing lists: moving all cells' values to the right- we have in each cell the num of workers that their quit index is the \n",
    "# number of the cell (i.e. the number of participants who completed #cell tasks included), so they still did the current task \n",
    "# and should be included in the percentage of workers who continue working on the task\n",
    "list_quit_index_baseline_prec_fix = [0]\n",
    "list_quit_index_question_prec_fix = [0]\n",
    "list_quit_index_narrative_prec_fix = [0]\n",
    "for i in range(0, len(list_quit_index_baseline_prec) - 1):\n",
    "    list_quit_index_baseline_prec_fix.append(list_quit_index_baseline_prec[i])\n",
    "    list_quit_index_question_prec_fix.append(list_quit_index_question_prec[i])\n",
    "    list_quit_index_narrative_prec_fix.append(list_quit_index_narrative_prec[i])\n",
    "\n",
    "for i in range(29):\n",
    "    list_quit_index_baseline_prec_fix[i] = 100 - (list_quit_index_baseline_prec_fix[i]/workers_num_baseline) * 100\n",
    "    list_quit_index_question_prec_fix[i] = 100 - (list_quit_index_question_prec_fix[i]/workers_num_question) * 100\n",
    "    list_quit_index_narrative_prec_fix[i] = 100 - (list_quit_index_narrative_prec_fix[i]/workers_num_narrative) * 100\n",
    "\n",
    "list_quit_index_baseline_prec_fix[-1] = list_quit_index_baseline_prec_fix[-2]\n",
    "list_quit_index_question_prec_fix[-1] = list_quit_index_question_prec_fix[-2]\n",
    "list_quit_index_narrative_prec_fix[-1] = list_quit_index_narrative_prec_fix[-2]\n",
    "print()\n",
    "print(f'Remaining percantages for Baseline: \\n'\n",
    "      f'{[round(i, 3) for i in list_quit_index_baseline_prec_fix]}')\n",
    "print(f'Remaining percantages for Question: \\n'\n",
    "      f'{[round(i, 3) for i in list_quit_index_question_prec_fix]}')\n",
    "print(f'Remaining percantages for Narrative: \\n'\n",
    "      f'{[round(i, 3) for i in list_quit_index_narrative_prec_fix]}')"
   ]
  },
  {
   "cell_type": "code",
   "execution_count": 7,
   "id": "22c53395",
   "metadata": {},
   "outputs": [
    {
     "data": {
      "image/png": "[encoded data removed]",
      "text/plain": [
       "<Figure size 432x288 with 1 Axes>"
      ]
     },
     "metadata": {
      "needs_background": "light"
     },
     "output_type": "display_data"
    }
   ],
   "source": [
    "indexes = [i for i in range(0,31)]\n",
    "plt.xticks(np.arange(0, 31, step=5), fontsize=12)\n",
    "plt.yticks(np.arange(0, 110, step=10), fontsize=12)\n",
    "plt.plot(indexes, [100] + list_quit_index_baseline_prec_fix, label='baseline', color='r', linestyle='dashed', linewidth=3)\n",
    "plt.xlabel('Quit Index', fontsize=16)\n",
    "plt.ylabel('% of Surviving Workers', fontsize=16)\n",
    "plt.xticks(fontsize=12)\n",
    "plt.yticks(fontsize=12)\n",
    "plt.title('Baseline', fontsize=16)\n",
    "plt.legend()\n",
    "axes = plt.gca()\n",
    "axes.yaxis.grid()\n",
    "plt.margins(0)\n",
    "plt.show();"
   ]
  },
  {
   "cell_type": "code",
   "execution_count": 8,
   "id": "8e884baf",
   "metadata": {},
   "outputs": [
    {
     "data": {
      "image/png": "[encoded data removed]",
      "text/plain": [
       "<Figure size 460.8x345.6 with 1 Axes>"
      ]
     },
     "metadata": {
      "needs_background": "light"
     },
     "output_type": "display_data"
    }
   ],
   "source": [
    "fig, ax = plt.subplots(figsize=(6.4, 4.8))\n",
    "plt.xticks(np.arange(0, 31, step=5), fontsize=12)\n",
    "plt.yticks(np.arange(0, 110, step=10), fontsize=12)\n",
    "plt.ylim(top=100, bottom=0)\n",
    "plt.plot(indexes, [100] + list_quit_index_question_prec_fix,  label='question only', linewidth=3)\n",
    "plt.plot(indexes, [100] + list_quit_index_baseline_prec_fix, label='baseline', color='r', linestyle='dashed', linewidth=3)\n",
    "plt.xlabel('Quit Index', fontsize=16)\n",
    "plt.ylabel('% of Surviving Workers', fontsize=16)\n",
    "plt.xticks(fontsize=12)\n",
    "plt.yticks(fontsize=12)\n",
    "plt.title('(a) Question Only vs. Baseline', fontsize=16)\n",
    "plt.legend()\n",
    "axes = plt.gca()\n",
    "axes.yaxis.grid()\n",
    "plt.margins(0)\n",
    "plt.show();"
   ]
  },
  {
   "cell_type": "code",
   "execution_count": 9,
   "id": "d8220baa",
   "metadata": {},
   "outputs": [
    {
     "data": {
      "image/png": "[encoded data removed]",
      "text/plain": [
       "<Figure size 460.8x345.6 with 1 Axes>"
      ]
     },
     "metadata": {
      "needs_background": "light"
     },
     "output_type": "display_data"
    }
   ],
   "source": [
    "fig, ax = plt.subplots(figsize=(6.4, 4.8))\n",
    "plt.xticks(np.arange(0, 31, step=5), fontsize=12)\n",
    "plt.yticks(np.arange(0, 110, step=10), fontsize=12)\n",
    "plt.plot(indexes, [100] + list_quit_index_narrative_prec_fix, label='narrative', linewidth=3)\n",
    "plt.plot(indexes, [100] + list_quit_index_baseline_prec_fix, label='baseline', color='r', linestyle='dashed', linewidth=3)\n",
    "plt.xlabel('Quit Index', fontsize=16)\n",
    "plt.ylabel('% of Surviving Workers', fontsize=16)\n",
    "plt.xticks(fontsize=12)\n",
    "plt.yticks(fontsize=12)\n",
    "plt.title('(b) Narrative vs. Baseline', fontsize=16)\n",
    "plt.legend()\n",
    "axes = plt.gca()\n",
    "axes.yaxis.grid()\n",
    "plt.margins(0)\n",
    "plt.show();"
   ]
  },
  {
   "cell_type": "code",
   "execution_count": 10,
   "id": "7bbc4e07",
   "metadata": {},
   "outputs": [
    {
     "name": "stdout",
     "output_type": "stream",
     "text": [
      "Baseline mean of quit indexes is: 5.9\n",
      "Baseline std of quit indexes is: 2.2336\n",
      "Baseline median of quit indexes is: 5.0\n"
     ]
    }
   ],
   "source": [
    "mean = df_federer_baseline['quit_index'].mean()\n",
    "print (f'Baseline mean of quit indexes is: {mean:.5}')\n",
    "std = df_federer_baseline['quit_index'].std()\n",
    "print (f'Baseline std of quit indexes is: {std:.5}')\n",
    "median = df_federer_baseline['quit_index'].median()\n",
    "print (f'Baseline median of quit indexes is: {median}')"
   ]
  },
  {
   "cell_type": "code",
   "execution_count": 11,
   "id": "8557ae57",
   "metadata": {},
   "outputs": [
    {
     "name": "stdout",
     "output_type": "stream",
     "text": [
      "Question Only mean of quit indexes is: 12.8182\n",
      "Question Only std of quit indexes is: 11.2855\n",
      "Question Only median of quit indexes is: 8.0\n"
     ]
    }
   ],
   "source": [
    "mean = df_federer_question['quit_index'].mean()\n",
    "print (f'Question Only mean of quit indexes is: {mean:.6}')\n",
    "std = df_federer_question['quit_index'].std()\n",
    "print (f'Question Only std of quit indexes is: {std:.6}')\n",
    "median = df_federer_question['quit_index'].median()\n",
    "print (f'Question Only median of quit indexes is: {median}')"
   ]
  },
  {
   "cell_type": "code",
   "execution_count": 12,
   "id": "721672ca",
   "metadata": {},
   "outputs": [
    {
     "name": "stdout",
     "output_type": "stream",
     "text": [
      "Narrative mean of quit indexes is: 13.8182\n",
      "Narrative std of quit indexes is: 12.8827\n",
      "Narrative median of quit indexes is: 4.0\n"
     ]
    }
   ],
   "source": [
    "mean = df_federer_narrative['quit_index'].mean()\n",
    "print (f'Narrative mean of quit indexes is: {mean:.6}')\n",
    "std = df_federer_narrative['quit_index'].std()\n",
    "print (f'Narrative std of quit indexes is: {std:.6}')\n",
    "median = df_federer_narrative['quit_index'].median()\n",
    "print (f'Narrative median of quit indexes is: {median}')"
   ]
  },
  {
   "cell_type": "markdown",
   "id": "30705c08",
   "metadata": {},
   "source": [
    "## Hypothesis 2"
   ]
  },
  {
   "cell_type": "markdown",
   "id": "5c9390ec",
   "metadata": {},
   "source": [
    "### Two Sided Proportion Test"
   ]
  },
  {
   "cell_type": "code",
   "execution_count": 13,
   "id": "be06ae17",
   "metadata": {},
   "outputs": [
    {
     "name": "stdout",
     "output_type": "stream",
     "text": [
      "the percentage of workers how completed al 30 task in the baseline version is: 0.0%\n",
      "the percentage of workers how completed al 30 task in the question only version is: 27.27272727272727%\n",
      "the percentage of workers how completed al 30 task in the narrative version is: 36.36363636363637%\n"
     ]
    }
   ],
   "source": [
    "# baseline\n",
    "workers_num_baseline = len(df_federer_baseline)\n",
    "comp_workers_baseline = len(df_federer_baseline[df_federer_baseline['quit_index'] == 30])\n",
    "percentage_comp_baseline = comp_workers_baseline / workers_num_baseline * 100 \n",
    "print (f'the percentage of workers how completed al 30 task in the baseline version is: {percentage_comp_baseline}%' )\n",
    "\n",
    "# question only\n",
    "workers_num_question = len(df_federer_question)\n",
    "comp_workers_question = len(df_federer_question[df_federer_question['quit_index'] == 30])\n",
    "percentage_comp_question = comp_workers_question / workers_num_question * 100\n",
    "print (f'the percentage of workers how completed al 30 task in the question only version is: {percentage_comp_question}%' )\n",
    "\n",
    "# narrative\n",
    "workers_num_narrative = len(df_federer_narrative)\n",
    "comp_workers_narrative = len(df_federer_narrative[df_federer_narrative['quit_index'] == 30])\n",
    "percentage_comp_narrative = comp_workers_narrative / workers_num_narrative * 100\n",
    "print (f'the percentage of workers how completed al 30 task in the narrative version is: {percentage_comp_narrative}%' )"
   ]
  },
  {
   "cell_type": "code",
   "execution_count": 14,
   "id": "b79127e3",
   "metadata": {},
   "outputs": [
    {
     "name": "stdout",
     "output_type": "stream",
     "text": [
      "the stat is: -1.7837651700316892 and the pval is: 0.07446183141740552\n"
     ]
    }
   ],
   "source": [
    "# pairwise test: question only compared to the  baseline\n",
    "counts =  [comp_workers_baseline, comp_workers_question]\n",
    "nobs = [workers_num_baseline, workers_num_question]\n",
    "zstat, pval = proportions_ztest(counts, nobs)\n",
    "print(f'the stat is: {zstat} and the pval is: {pval}')"
   ]
  },
  {
   "cell_type": "code",
   "execution_count": 15,
   "id": "e2900e50",
   "metadata": {},
   "outputs": [
    {
     "name": "stdout",
     "output_type": "stream",
     "text": [
      "the stat is: -2.1194288404250963 and the pval is: 0.03405424161767096\n"
     ]
    }
   ],
   "source": [
    "# pairwise test: narrative compared to the  baseline\n",
    "counts =  [comp_workers_baseline, comp_workers_narrative]\n",
    "nobs = [workers_num_baseline, workers_num_narrative]\n",
    "zstat, pval = proportions_ztest(counts, nobs)\n",
    "print(f'the stat is: {zstat} and the pval is: {pval}')"
   ]
  },
  {
   "cell_type": "code",
   "execution_count": 16,
   "id": "bcad54ea",
   "metadata": {},
   "outputs": [
    {
     "name": "stdout",
     "output_type": "stream",
     "text": [
      "the chi2stat is: 4.338701298701299 and the pval is: 0.1142517822975839\n"
     ]
    }
   ],
   "source": [
    "# joined test: question only and narrative compared to the  baseline\n",
    "counts =  [comp_workers_baseline, comp_workers_question, comp_workers_narrative]\n",
    "nobs = [workers_num_baseline, workers_num_question, workers_num_narrative]\n",
    "\n",
    "chi2stat, pval, table = proportions_chisquare(counts, nobs)\n",
    "print(f'the chi2stat is: {chi2stat} and the pval is: {pval}')\n",
    "# print(table)"
   ]
  },
  {
   "cell_type": "markdown",
   "id": "7383502e",
   "metadata": {},
   "source": [
    "### GLM"
   ]
  },
  {
   "cell_type": "code",
   "execution_count": 17,
   "id": "be718dba",
   "metadata": {},
   "outputs": [],
   "source": [
    "# adding new binary completed column\n",
    "df_federer_baseline['completed'] = np.where(df_federer_baseline['quit_index'] == 30, 1, 0)\n",
    "df_federer_question['completed'] = np.where(df_federer_question['quit_index'] == 30, 1, 0)\n",
    "df_federer_narrative['completed'] = np.where(df_federer_narrative['quit_index'] == 30, 1, 0)\n",
    "\n",
    "# Enjoyment column\n",
    "df_federer_baseline['enjoyment_avg'] = df_federer_baseline.apply(lambda x: ((7 - x['enjoyment_1']) + x['enjoyment_2'] + \n",
    "                                                                            x['enjoyment_3'] + (7 - x['enjoyment_4'])) / 4, \n",
    "                                                                 axis=1)\n",
    "\n",
    "df_federer_question['enjoyment_avg'] = df_federer_question.apply(lambda x: ((7 - x['enjoyment_1']) + x['enjoyment_2'] + \n",
    "                                                                            x['enjoyment_3'] + (7 - x['enjoyment_4'])) / 4, \n",
    "                                                                 axis=1)\n",
    "\n",
    "df_federer_narrative['enjoyment_avg'] = df_federer_narrative.apply(lambda x: ((7 - x['enjoyment_1']) + x['enjoyment_2'] + \n",
    "                                                                            x['enjoyment_3'] + (7 - x['enjoyment_4'])) / 4, \n",
    "                                                                 axis=1)\n",
    "\n",
    "# Competence column\n",
    "df_federer_baseline['competence_avg'] = df_federer_baseline.apply(lambda x: (x['competence_1'] + x['competence_2'] + \n",
    "                                                                              (7 - x['competence_3'])) / 3, \n",
    "                                                                 axis=1)\n",
    "\n",
    "df_federer_question['competence_avg'] = df_federer_question.apply(lambda x: (x['competence_1'] + x['competence_2'] + \n",
    "                                                                              (7 - x['competence_3'])) / 3, \n",
    "                                                                 axis=1)\n",
    "\n",
    "df_federer_narrative['competence_avg'] = df_federer_narrative.apply(lambda x: (x['competence_1'] + x['competence_2'] + \n",
    "                                                                              (7 - x['competence_3'])) / 3, \n",
    "                                                                 axis=1)\n",
    "\n",
    "# Effort column\n",
    "df_federer_baseline['effort_avg'] = df_federer_baseline.apply(lambda x: ((7 - x['effort_1']) + x['effort_2']) / 2, \n",
    "                                                                 axis=1)\n",
    "\n",
    "df_federer_question['effort_avg'] = df_federer_question.apply(lambda x: ((7 - x['effort_1']) + x['effort_2']) / 2, \n",
    "                                                                 axis=1)\n",
    "\n",
    "df_federer_narrative['effort_avg'] = df_federer_narrative.apply(lambda x: ((7 - x['effort_1']) + x['effort_2']) / 2, \n",
    "                                                                 axis=1)"
   ]
  },
  {
   "cell_type": "code",
   "execution_count": 18,
   "id": "6cd89e8e",
   "metadata": {},
   "outputs": [
    {
     "data": {
      "text/html": [
       "<div>\n",
       "<style scoped>\n",
       "    .dataframe tbody tr th:only-of-type {\n",
       "        vertical-align: middle;\n",
       "    }\n",
       "\n",
       "    .dataframe tbody tr th {\n",
       "        vertical-align: top;\n",
       "    }\n",
       "\n",
       "    .dataframe thead th {\n",
       "        text-align: right;\n",
       "    }\n",
       "</style>\n",
       "<table border=\"1\" class=\"dataframe\">\n",
       "  <thead>\n",
       "    <tr style=\"text-align: right;\">\n",
       "      <th></th>\n",
       "      <th>index</th>\n",
       "      <th>completed</th>\n",
       "      <th>condition</th>\n",
       "      <th>enjoyment_avg</th>\n",
       "      <th>competence_avg</th>\n",
       "      <th>effort_avg</th>\n",
       "    </tr>\n",
       "  </thead>\n",
       "  <tbody>\n",
       "    <tr>\n",
       "      <th>0</th>\n",
       "      <td>0</td>\n",
       "      <td>0</td>\n",
       "      <td>federer_baseline</td>\n",
       "      <td>1.75</td>\n",
       "      <td>2.000000</td>\n",
       "      <td>6.0</td>\n",
       "    </tr>\n",
       "    <tr>\n",
       "      <th>1</th>\n",
       "      <td>1</td>\n",
       "      <td>0</td>\n",
       "      <td>federer_baseline</td>\n",
       "      <td>6.50</td>\n",
       "      <td>6.666667</td>\n",
       "      <td>6.5</td>\n",
       "    </tr>\n",
       "    <tr>\n",
       "      <th>2</th>\n",
       "      <td>2</td>\n",
       "      <td>0</td>\n",
       "      <td>federer_baseline</td>\n",
       "      <td>2.00</td>\n",
       "      <td>3.000000</td>\n",
       "      <td>5.0</td>\n",
       "    </tr>\n",
       "    <tr>\n",
       "      <th>3</th>\n",
       "      <td>3</td>\n",
       "      <td>0</td>\n",
       "      <td>federer_baseline</td>\n",
       "      <td>0.75</td>\n",
       "      <td>3.666667</td>\n",
       "      <td>4.0</td>\n",
       "    </tr>\n",
       "    <tr>\n",
       "      <th>4</th>\n",
       "      <td>4</td>\n",
       "      <td>0</td>\n",
       "      <td>federer_baseline</td>\n",
       "      <td>2.25</td>\n",
       "      <td>4.666667</td>\n",
       "      <td>3.5</td>\n",
       "    </tr>\n",
       "  </tbody>\n",
       "</table>\n",
       "</div>"
      ],
      "text/plain": [
       "   index  completed         condition  enjoyment_avg  competence_avg  \\\n",
       "0      0          0  federer_baseline           1.75        2.000000   \n",
       "1      1          0  federer_baseline           6.50        6.666667   \n",
       "2      2          0  federer_baseline           2.00        3.000000   \n",
       "3      3          0  federer_baseline           0.75        3.666667   \n",
       "4      4          0  federer_baseline           2.25        4.666667   \n",
       "\n",
       "   effort_avg  \n",
       "0         6.0  \n",
       "1         6.5  \n",
       "2         5.0  \n",
       "3         4.0  \n",
       "4         3.5  "
      ]
     },
     "execution_count": 18,
     "metadata": {},
     "output_type": "execute_result"
    }
   ],
   "source": [
    "# creating the dataframe for glm\n",
    "df_federer_baseline['condition'] = 'federer_baseline'\n",
    "df_federer_question['condition'] = 'federer_question'\n",
    "df_federer_narrative['condition'] = 'federer_narrative'\n",
    "\n",
    "desired_columns = ['completed', 'condition', 'enjoyment_avg', 'competence_avg', 'effort_avg']\n",
    "df_federer_baseline_to_glm = df_federer_baseline[desired_columns].copy()\n",
    "df_federer_question_to_glm = df_federer_question[desired_columns].copy()\n",
    "df_federer_narrative_to_glm = df_federer_narrative[desired_columns].copy()\n",
    "\n",
    "glm_df = pd.concat([df_federer_baseline_to_glm, df_federer_question_to_glm, df_federer_narrative_to_glm]).reset_index()\n",
    "glm_df.head()"
   ]
  },
  {
   "cell_type": "code",
   "execution_count": 19,
   "id": "dac01d70",
   "metadata": {},
   "outputs": [
    {
     "name": "stdout",
     "output_type": "stream",
     "text": [
      "                 Generalized Linear Model Regression Results                  \n",
      "==============================================================================\n",
      "Dep. Variable:              completed   No. Observations:                   32\n",
      "Model:                            GLM   Df Residuals:                       26\n",
      "Model Family:                Binomial   Df Model:                            5\n",
      "Link Function:                  logit   Scale:                          1.0000\n",
      "Method:                          IRLS   Log-Likelihood:                -12.838\n",
      "Date:                Tue, 01 Mar 2022   Deviance:                       25.676\n",
      "Time:                        18:57:49   Pearson chi2:                     21.0\n",
      "No. Iterations:                    21                                         \n",
      "Covariance Type:            nonrobust                                         \n",
      "=====================================================================================================\n",
      "                                        coef    std err          z      P>|z|      [0.025      0.975]\n",
      "-----------------------------------------------------------------------------------------------------\n",
      "Intercept                           -25.4247   1.43e+04     -0.002      0.999    -2.8e+04     2.8e+04\n",
      "C(condition)[T.federer_narrative]    22.7489   1.43e+04      0.002      0.999    -2.8e+04     2.8e+04\n",
      "C(condition)[T.federer_question]     22.2787   1.43e+04      0.002      0.999    -2.8e+04     2.8e+04\n",
      "enjoyment_avg                         0.2806      0.573      0.490      0.624      -0.842       1.403\n",
      "competence_avg                        0.3462      0.490      0.706      0.480      -0.614       1.307\n",
      "effort_avg                           -0.0500      0.430     -0.116      0.907      -0.893       0.793\n",
      "=====================================================================================================\n"
     ]
    }
   ],
   "source": [
    "formula = 'completed ~ C(condition)+enjoyment_avg+competence_avg+effort_avg'\n",
    "model = smf.glm(formula=formula, data=glm_df, family=sm.families.Binomial())\n",
    "result = model.fit()\n",
    "print(result.summary())"
   ]
  },
  {
   "cell_type": "code",
   "execution_count": 20,
   "id": "2bcfbbdb",
   "metadata": {},
   "outputs": [
    {
     "data": {
      "image/png": "[encoded data removed]",
      "text/plain": [
       "<Figure size 432x288 with 1 Axes>"
      ]
     },
     "metadata": {
      "needs_background": "light"
     },
     "output_type": "display_data"
    }
   ],
   "source": [
    "yhat = result.mu\n",
    "# from statsmodels.graphics.api import abline_plot\n",
    "fig, ax = plt.subplots()\n",
    "\n",
    "ax.scatter(yhat, result.resid_pearson, label='residuals')\n",
    "ax.hlines(0, 0, 1, color='red', label='line e=0')\n",
    "ax.set_xlim(0, 1)\n",
    "ax.set_title('Residual Dependence Plot', fontsize=16)\n",
    "ax.set_ylabel('Pearson Residuals', fontsize=16)\n",
    "ax.set_xlabel('Fitted values', fontsize=16)\n",
    "ax.legend();"
   ]
  },
  {
   "cell_type": "code",
   "execution_count": 21,
   "id": "6422cd95",
   "metadata": {},
   "outputs": [],
   "source": [
    "# resid = result.resid_deviance.copy()\n",
    "# from statsmodels import graphics\n",
    "# graphics.gofplots.qqplot(resid, line='r')"
   ]
  },
  {
   "cell_type": "code",
   "execution_count": 22,
   "id": "063ddbd1",
   "metadata": {},
   "outputs": [],
   "source": [
    "# Hosmer-Lemeshow Goodness of Fit Function\n",
    "def chisq(data, groupby, obs,Exp):\n",
    "    chisq_tbl=data.groupby(groupby).apply(lambda x: pd.Series([\n",
    "        np.size(x[obs]),\n",
    "        np.size(x[Exp][x[Exp]==1]),\n",
    "        np.size(x[Exp][x[Exp]==0]),   \n",
    "        np.sum(x[obs]),\n",
    "        (np.sum(1-x[obs]))      \n",
    "        ],\n",
    "        index=([\"cnt\", \"Obs_Resp\", \"Obs_Non_resp\", \n",
    "               \"Exp_Resp\", \"Exp_Non_Resp\"])\n",
    "        )).reset_index()\n",
    "    chisq_tbl=chisq_tbl.sort_values(by=groupby,ascending=False)\n",
    "    chisq_value = (\n",
    "        ((chisq_tbl[\"Obs_Resp\"]-chisq_tbl[\"Exp_Resp\"])**2\n",
    "              /chisq_tbl[\"Exp_Resp\"])+\n",
    "        ((chisq_tbl[\"Obs_Non_resp\"]-chisq_tbl[\"Exp_Non_Resp\"])**2\n",
    "              /chisq_tbl[\"Exp_Non_Resp\"])).sum()\n",
    "    \n",
    "    g = len(data[\"decile\"].value_counts())\n",
    "    \n",
    "    \n",
    "    chisq_tbl = chisq_tbl.round(0).astype(int)\n",
    "    import scipy\n",
    "    pvalue=scipy.stats.chi2.pdf(chisq_value , g-2)\n",
    "    return({\"Chisq_Table\":chisq_tbl,\n",
    "            \"hosmerlem\": {\"degree_of_freedom\": g-2,\n",
    "                          \"X^2\":round(chisq_value,3),\n",
    "                          \"p_value\":round(pvalue, 5)}})"
   ]
  },
  {
   "cell_type": "code",
   "execution_count": 23,
   "id": "35607c06",
   "metadata": {},
   "outputs": [
    {
     "data": {
      "text/plain": [
       "{'degree_of_freedom': 8, 'X^2': 6.709, 'p_value': 0.10987}"
      ]
     },
     "execution_count": 23,
     "metadata": {},
     "output_type": "execute_result"
    }
   ],
   "source": [
    "# adding needed columns for Hosmer-Lemeshow Goodness of Fit\n",
    "glm_df[\"prob\"] = result.predict(glm_df)\n",
    "glm_df['decile']=pd.qcut(glm_df.prob, 10, labels=False)\n",
    "\n",
    "# test\n",
    "chisq_test = chisq(glm_df, \"decile\", \"prob\", \"completed\")\n",
    "# chisq_test[\"Chisq_Table\"]\n",
    "chisq_test[\"hosmerlem\"]"
   ]
  },
  {
   "cell_type": "markdown",
   "id": "2465c639",
   "metadata": {},
   "source": [
    "## Hypothesis 3"
   ]
  },
  {
   "cell_type": "code",
   "execution_count": 24,
   "id": "f630a889",
   "metadata": {},
   "outputs": [],
   "source": [
    "def calculate_error_rates(df):\n",
    "    df_org = pd.read_csv(\"Articles/ordered_Federer.csv\")\n",
    "    org_trans = df_org[\"sentence\"].tolist()\n",
    "    \n",
    "    transcriptions = {}  # key=user_index, value=list_of_transcriptions\n",
    "    for index, row in df.iterrows():\n",
    "        tran = []\n",
    "        for i in range(1,31):\n",
    "            if not isinstance(row['transcription_'+str(i)], float):\n",
    "                tran.append(row['transcription_'+str(i)].translate(str.maketrans('', '', string.punctuation)).lower())\n",
    "            transcriptions[index] = tran\n",
    "    \n",
    "    error_rate = []\n",
    "    for user, trans_lst in enumerate(transcriptions.values()):\n",
    "        sum_ratio = 0\n",
    "        for i, trans in enumerate(trans_lst):\n",
    "            user_trans = trans\n",
    "            real_trans = org_trans[i]\n",
    "            sum_ratio += fuzz.ratio(user_trans, real_trans)/100\n",
    "        error_rate.append(1-sum_ratio/len(trans_lst))\n",
    "        # print(\"error rate for user\", user, \"is:\", 1-sum_ratio/len(trans_lst))\n",
    "    return error_rate"
   ]
  },
  {
   "cell_type": "code",
   "execution_count": 25,
   "id": "7744f86f",
   "metadata": {},
   "outputs": [],
   "source": [
    "error_rates_baseline = calculate_error_rates(df_federer_baseline)\n",
    "error_rates_question = calculate_error_rates(df_federer_question)\n",
    "error_rates_narrative = calculate_error_rates(df_federer_narrative)\n",
    "error_rates_uniqueness = calculate_error_rates(df_federer_uniqueness)\n",
    "error_rates_benefit = calculate_error_rates(df_federer_benefit)"
   ]
  },
  {
   "cell_type": "code",
   "execution_count": 26,
   "id": "f9024dca",
   "metadata": {},
   "outputs": [
    {
     "name": "stdout",
     "output_type": "stream",
     "text": [
      "Median for baseline= 4.464\n",
      "Median for question= 4.75\n",
      "Median for narrative= 5.0\n",
      "Median for uniqueness= 3.0\n",
      "Median for benefit= 5.267\n"
     ]
    }
   ],
   "source": [
    "print(\"Median for baseline=\", round(100*statistics.median(error_rates_baseline), 3))\n",
    "print(\"Median for question=\", round(100*statistics.median(error_rates_question), 3))\n",
    "print(\"Median for narrative=\", round(100*statistics.median(error_rates_narrative), 3))\n",
    "print(\"Median for uniqueness=\", round(100*statistics.median(error_rates_uniqueness), 3))\n",
    "print(\"Median for benefit=\", round(100*statistics.median(error_rates_benefit), 3))"
   ]
  },
  {
   "cell_type": "code",
   "execution_count": 27,
   "id": "a5adbf91",
   "metadata": {},
   "outputs": [
    {
     "name": "stdout",
     "output_type": "stream",
     "text": [
      "Mean for baseline= 8.582\n",
      "Mean for question= 5.962\n",
      "Mean for narrative= 8.288\n",
      "Mean for uniqueness= 3.914\n",
      "Mean for benefit= 5.117\n"
     ]
    }
   ],
   "source": [
    "print(\"Mean for baseline=\", round(100*statistics.mean(error_rates_baseline), 3))\n",
    "print(\"Mean for question=\", round(100*statistics.mean(error_rates_question), 3))\n",
    "print(\"Mean for narrative=\", round(100*statistics.mean(error_rates_narrative), 3))\n",
    "print(\"Mean for uniqueness=\", round(100*statistics.mean(error_rates_uniqueness), 3))\n",
    "print(\"Mean for benefit=\", round(100*statistics.mean(error_rates_benefit), 3))"
   ]
  },
  {
   "cell_type": "markdown",
   "id": "665e6a00",
   "metadata": {},
   "source": [
    "### Kruskal-Wallis Test"
   ]
  },
  {
   "cell_type": "code",
   "execution_count": 28,
   "id": "7fee375e",
   "metadata": {},
   "outputs": [
    {
     "name": "stdout",
     "output_type": "stream",
     "text": [
      "the chi2stat is: 0.5958020802080217 and the pval is: 0.7423748014459695\n"
     ]
    }
   ],
   "source": [
    "chi2stat,pval = stats.kruskal(error_rates_baseline, error_rates_question, error_rates_narrative)\n",
    "print(f'the chi2stat is: {chi2stat} and the pval is: {pval}')"
   ]
  },
  {
   "cell_type": "markdown",
   "id": "f4c471f3",
   "metadata": {},
   "source": [
    "Meanwhile, we also notice that the error rate in all experimental conditions is already very low, which implies that the space for performance improvement can be very limited."
   ]
  },
  {
   "cell_type": "markdown",
   "id": "d98e955f",
   "metadata": {},
   "source": [
    "## Hypothesis 5"
   ]
  },
  {
   "cell_type": "markdown",
   "id": "2b5e46f5",
   "metadata": {},
   "source": [
    "### Histogram"
   ]
  },
  {
   "cell_type": "code",
   "execution_count": 29,
   "id": "dbd8d88d",
   "metadata": {},
   "outputs": [
    {
     "data": {
      "image/png": "[encoded data removed]",
      "text/plain": [
       "<Figure size 921.6x360 with 2 Axes>"
      ]
     },
     "metadata": {
      "needs_background": "light"
     },
     "output_type": "display_data"
    }
   ],
   "source": [
    "fig, ax = plt.subplots(1, 2, figsize=(12.8, 5))\n",
    "fig.suptitle('Number of workers who quit in each experimental condition', fontsize=16)\n",
    "ax[1].set_title('(b) health article', fontsize=16)\n",
    "ax[1].set_xlabel(\"Quit Index\", fontsize=14)\n",
    "ax[1].set_ylabel(\"Number of Workers\", fontsize=14)\n",
    "ax[1].set_xticks(np.arange(0, 31, step=5))\n",
    "ax[1].set_yticks(np.arange(0, 20, step=1))\n",
    "ax[1].set_ylim(top=15, bottom=0)\n",
    "types = ['baseline', 'question only', 'narrative']\n",
    "n, bins, patches = ax[1].hist([quit_index_salt_baseline, quit_index_salt_question, quit_index_salt_narrative], bins=range(1,32), \n",
    "                            align='left', rwidth=1, stacked=True, density=False, label=types)\n",
    "ax[1].legend()\n",
    "ax[1].grid(axis='y')\n",
    "ax[1].margins(0)\n",
    "\n",
    "ax[0].set_title('(a) Federer article', fontsize=16)\n",
    "ax[0].set_xlabel(\"Quit Index\", fontsize=14)\n",
    "ax[0].set_ylabel(\"Number of Workers\", fontsize=14)\n",
    "ax[0].set_xticks(np.arange(0, 31, step=5))\n",
    "ax[0].set_yticks(np.arange(0, 20, step=1))\n",
    "ax[0].set_ylim(top=15, bottom=0)\n",
    "types = ['baseline', 'question only', 'narrative']\n",
    "n, bins, patches = ax[0].hist([quit_index_baseline, quit_index_question, quit_index_narrative], bins=range(1,32), align='left', \n",
    "                            rwidth=1, stacked=True, density=False, label=types)\n",
    "ax[0].legend()\n",
    "ax[0].grid(axis='y')\n",
    "ax[0].margins(0)\n",
    "\n",
    "plt.show();"
   ]
  },
  {
   "cell_type": "code",
   "execution_count": 30,
   "id": "ba564782",
   "metadata": {},
   "outputs": [
    {
     "name": "stdout",
     "output_type": "stream",
     "text": [
      "the percentage of workers how completed all 30 task in the baseline version is: 10.0%\n",
      "the percentage of workers how completed all 30 task in the question only version is: 20.0%\n",
      "the percentage of workers how completed all 30 task in the narrative version is: 16.666666666666664%\n"
     ]
    }
   ],
   "source": [
    "# baseline\n",
    "workers_num_baseline = len(df_salt_baseline)\n",
    "comp_workers_baseline = len(df_salt_baseline[df_salt_baseline['quit_index'] == 30])\n",
    "percentage_comp_baseline = comp_workers_baseline / workers_num_baseline * 100 \n",
    "print (f'the percentage of workers how completed all 30 task in the baseline version is: {percentage_comp_baseline}%' )\n",
    "\n",
    "# question only\n",
    "workers_num_question = len(df_salt_question)\n",
    "comp_workers_question = len(df_salt_question[df_salt_question['quit_index'] == 30])\n",
    "percentage_comp_question = comp_workers_question / workers_num_question * 100\n",
    "print (f'the percentage of workers how completed all 30 task in the question only version is: {percentage_comp_question}%' )\n",
    "\n",
    "# narrative\n",
    "workers_num_narrative = len(df_salt_narrative)\n",
    "comp_workers_narrative = len(df_salt_narrative[df_salt_narrative['quit_index'] == 30])\n",
    "percentage_comp_narrative = comp_workers_narrative / workers_num_narrative * 100\n",
    "print (f'the percentage of workers how completed all 30 task in the narrative version is: {percentage_comp_narrative}%' )"
   ]
  },
  {
   "cell_type": "markdown",
   "id": "da327b8e",
   "metadata": {},
   "source": [
    "### GLM"
   ]
  },
  {
   "cell_type": "code",
   "execution_count": 31,
   "id": "59ae922b",
   "metadata": {},
   "outputs": [],
   "source": [
    "# adding new binary completed column\n",
    "df_salt_baseline['completed'] = np.where(df_salt_baseline['quit_index'] == 30, 1, 0)\n",
    "df_salt_question['completed'] = np.where(df_salt_question['quit_index'] == 30, 1, 0)\n",
    "df_salt_narrative['completed'] = np.where(df_salt_narrative['quit_index'] == 30, 1, 0)\n",
    "\n",
    "# Enjoyment column\n",
    "df_salt_baseline['enjoyment_avg'] = df_salt_baseline.apply(lambda x: ((7 - x['enjoyment_1']) + x['enjoyment_2'] + \n",
    "                                                                      x['enjoyment_3'] + (7 - x['enjoyment_4'])) / 4, \n",
    "                                                           axis=1)\n",
    "\n",
    "df_salt_question['enjoyment_avg'] = df_salt_question.apply(lambda x: ((7 - x['enjoyment_1']) + x['enjoyment_2'] + \n",
    "                                                                      x['enjoyment_3'] + (7 - x['enjoyment_4'])) / 4,\n",
    "                                                           axis=1)\n",
    "\n",
    "df_salt_narrative['enjoyment_avg'] = df_salt_narrative.apply(lambda x: ((7 - x['enjoyment_1']) + x['enjoyment_2'] + \n",
    "                                                                        x['enjoyment_3'] + (7 - x['enjoyment_4'])) / 4, \n",
    "                                                             axis=1)\n",
    "\n",
    "# Competence column\n",
    "df_salt_baseline['competence_avg'] = df_salt_baseline.apply(lambda x: (x['competence_1'] + x['competence_2'] + \n",
    "                                                                       (7 - x['competence_3'])) / 3, \n",
    "                                                            axis=1)\n",
    "\n",
    "df_salt_question['competence_avg'] = df_salt_question.apply(lambda x: (x['competence_1'] + x['competence_2'] + \n",
    "                                                                       (7 - x['competence_3'])) / 3, \n",
    "                                                            axis=1)\n",
    "\n",
    "df_salt_narrative['competence_avg'] = df_salt_narrative.apply(lambda x: (x['competence_1'] + x['competence_2'] + \n",
    "                                                                         (7 - x['competence_3'])) / 3,\n",
    "                                                              axis=1)\n",
    "\n",
    "# Effort column\n",
    "df_salt_baseline['effort_avg'] = df_salt_baseline.apply(lambda x: ((7 - x['effort_1']) + x['effort_2']) / 2, axis=1)\n",
    "\n",
    "df_salt_question['effort_avg'] = df_salt_question.apply(lambda x: ((7 - x['effort_1']) + x['effort_2']) / 2, axis=1)\n",
    "\n",
    "df_salt_narrative['effort_avg'] = df_salt_narrative.apply(lambda x: ((7 - x['effort_1']) + x['effort_2']) / 2, axis=1)"
   ]
  },
  {
   "cell_type": "markdown",
   "id": "0f617f1a",
   "metadata": {},
   "source": [
    "### New Way"
   ]
  },
  {
   "cell_type": "code",
   "execution_count": 32,
   "id": "fb3c1c80",
   "metadata": {},
   "outputs": [
    {
     "data": {
      "text/html": [
       "<div>\n",
       "<style scoped>\n",
       "    .dataframe tbody tr th:only-of-type {\n",
       "        vertical-align: middle;\n",
       "    }\n",
       "\n",
       "    .dataframe tbody tr th {\n",
       "        vertical-align: top;\n",
       "    }\n",
       "\n",
       "    .dataframe thead th {\n",
       "        text-align: right;\n",
       "    }\n",
       "</style>\n",
       "<table border=\"1\" class=\"dataframe\">\n",
       "  <thead>\n",
       "    <tr style=\"text-align: right;\">\n",
       "      <th></th>\n",
       "      <th>index</th>\n",
       "      <th>completed</th>\n",
       "      <th>condition</th>\n",
       "      <th>article</th>\n",
       "      <th>enjoyment_avg</th>\n",
       "      <th>competence_avg</th>\n",
       "      <th>effort_avg</th>\n",
       "    </tr>\n",
       "  </thead>\n",
       "  <tbody>\n",
       "    <tr>\n",
       "      <th>0</th>\n",
       "      <td>0</td>\n",
       "      <td>0</td>\n",
       "      <td>baseline</td>\n",
       "      <td>federer</td>\n",
       "      <td>1.75</td>\n",
       "      <td>2.000000</td>\n",
       "      <td>6.0</td>\n",
       "    </tr>\n",
       "    <tr>\n",
       "      <th>1</th>\n",
       "      <td>1</td>\n",
       "      <td>0</td>\n",
       "      <td>baseline</td>\n",
       "      <td>federer</td>\n",
       "      <td>6.50</td>\n",
       "      <td>6.666667</td>\n",
       "      <td>6.5</td>\n",
       "    </tr>\n",
       "    <tr>\n",
       "      <th>2</th>\n",
       "      <td>2</td>\n",
       "      <td>0</td>\n",
       "      <td>baseline</td>\n",
       "      <td>federer</td>\n",
       "      <td>2.00</td>\n",
       "      <td>3.000000</td>\n",
       "      <td>5.0</td>\n",
       "    </tr>\n",
       "    <tr>\n",
       "      <th>3</th>\n",
       "      <td>3</td>\n",
       "      <td>0</td>\n",
       "      <td>baseline</td>\n",
       "      <td>federer</td>\n",
       "      <td>0.75</td>\n",
       "      <td>3.666667</td>\n",
       "      <td>4.0</td>\n",
       "    </tr>\n",
       "    <tr>\n",
       "      <th>4</th>\n",
       "      <td>4</td>\n",
       "      <td>0</td>\n",
       "      <td>baseline</td>\n",
       "      <td>federer</td>\n",
       "      <td>2.25</td>\n",
       "      <td>4.666667</td>\n",
       "      <td>3.5</td>\n",
       "    </tr>\n",
       "    <tr>\n",
       "      <th>...</th>\n",
       "      <td>...</td>\n",
       "      <td>...</td>\n",
       "      <td>...</td>\n",
       "      <td>...</td>\n",
       "      <td>...</td>\n",
       "      <td>...</td>\n",
       "      <td>...</td>\n",
       "    </tr>\n",
       "    <tr>\n",
       "      <th>59</th>\n",
       "      <td>7</td>\n",
       "      <td>0</td>\n",
       "      <td>narrative</td>\n",
       "      <td>salt</td>\n",
       "      <td>3.50</td>\n",
       "      <td>3.666667</td>\n",
       "      <td>4.5</td>\n",
       "    </tr>\n",
       "    <tr>\n",
       "      <th>60</th>\n",
       "      <td>8</td>\n",
       "      <td>0</td>\n",
       "      <td>narrative</td>\n",
       "      <td>salt</td>\n",
       "      <td>1.75</td>\n",
       "      <td>3.333333</td>\n",
       "      <td>6.0</td>\n",
       "    </tr>\n",
       "    <tr>\n",
       "      <th>61</th>\n",
       "      <td>9</td>\n",
       "      <td>1</td>\n",
       "      <td>narrative</td>\n",
       "      <td>salt</td>\n",
       "      <td>4.50</td>\n",
       "      <td>3.000000</td>\n",
       "      <td>6.0</td>\n",
       "    </tr>\n",
       "    <tr>\n",
       "      <th>62</th>\n",
       "      <td>10</td>\n",
       "      <td>0</td>\n",
       "      <td>narrative</td>\n",
       "      <td>salt</td>\n",
       "      <td>5.00</td>\n",
       "      <td>5.333333</td>\n",
       "      <td>5.5</td>\n",
       "    </tr>\n",
       "    <tr>\n",
       "      <th>63</th>\n",
       "      <td>11</td>\n",
       "      <td>0</td>\n",
       "      <td>narrative</td>\n",
       "      <td>salt</td>\n",
       "      <td>1.50</td>\n",
       "      <td>4.000000</td>\n",
       "      <td>3.5</td>\n",
       "    </tr>\n",
       "  </tbody>\n",
       "</table>\n",
       "<p>64 rows × 7 columns</p>\n",
       "</div>"
      ],
      "text/plain": [
       "    index  completed  condition  article  enjoyment_avg  competence_avg  \\\n",
       "0       0          0   baseline  federer           1.75        2.000000   \n",
       "1       1          0   baseline  federer           6.50        6.666667   \n",
       "2       2          0   baseline  federer           2.00        3.000000   \n",
       "3       3          0   baseline  federer           0.75        3.666667   \n",
       "4       4          0   baseline  federer           2.25        4.666667   \n",
       "..    ...        ...        ...      ...            ...             ...   \n",
       "59      7          0  narrative     salt           3.50        3.666667   \n",
       "60      8          0  narrative     salt           1.75        3.333333   \n",
       "61      9          1  narrative     salt           4.50        3.000000   \n",
       "62     10          0  narrative     salt           5.00        5.333333   \n",
       "63     11          0  narrative     salt           1.50        4.000000   \n",
       "\n",
       "    effort_avg  \n",
       "0          6.0  \n",
       "1          6.5  \n",
       "2          5.0  \n",
       "3          4.0  \n",
       "4          3.5  \n",
       "..         ...  \n",
       "59         4.5  \n",
       "60         6.0  \n",
       "61         6.0  \n",
       "62         5.5  \n",
       "63         3.5  \n",
       "\n",
       "[64 rows x 7 columns]"
      ]
     },
     "execution_count": 32,
     "metadata": {},
     "output_type": "execute_result"
    }
   ],
   "source": [
    "# creating the dataframe for glm\n",
    "df_federer_baseline.replace({'condition': {'federer_baseline': 'baseline'}}, inplace=True)\n",
    "df_federer_question.replace({'condition': {'federer_question': 'question'}}, inplace=True)\n",
    "df_federer_narrative.replace({'condition': {'federer_narrative': 'narrative'}}, inplace=True)\n",
    "\n",
    "df_federer_baseline['article'] = 'federer'\n",
    "df_federer_question['article'] = 'federer'\n",
    "df_federer_narrative['article'] = 'federer'\n",
    "\n",
    "\n",
    "df_salt_baseline['condition'] = 'baseline'\n",
    "df_salt_question['condition'] = 'question'\n",
    "df_salt_narrative['condition'] = 'narrative'\n",
    "\n",
    "df_salt_baseline['article'] = 'salt'\n",
    "df_salt_question['article'] = 'salt'\n",
    "df_salt_narrative['article'] = 'salt'\n",
    "\n",
    "desired_columns = ['completed', 'condition', 'article', 'enjoyment_avg', 'competence_avg', 'effort_avg']\n",
    "df_federer_baseline_to_glm = df_federer_baseline[desired_columns].copy()\n",
    "df_federer_question_to_glm = df_federer_question[desired_columns].copy()\n",
    "df_federer_narrative_to_glm = df_federer_narrative[desired_columns].copy()\n",
    "\n",
    "df_salt_baseline_to_glm = df_salt_baseline[desired_columns].copy()\n",
    "df_salt_question_to_glm = df_salt_question[desired_columns].copy()\n",
    "df_salt_narrative_to_glm = df_salt_narrative[desired_columns].copy()\n",
    "\n",
    "glm_df = pd.concat([df_federer_baseline_to_glm, df_federer_question_to_glm, df_federer_narrative_to_glm, \n",
    "                   df_salt_baseline_to_glm, df_salt_question_to_glm, df_salt_narrative_to_glm]).reset_index()\n",
    "glm_df"
   ]
  },
  {
   "cell_type": "code",
   "execution_count": 33,
   "id": "7572683c",
   "metadata": {},
   "outputs": [
    {
     "name": "stdout",
     "output_type": "stream",
     "text": [
      "                 Generalized Linear Model Regression Results                  \n",
      "==============================================================================\n",
      "Dep. Variable:              completed   No. Observations:                   64\n",
      "Model:                            GLM   Df Residuals:                       55\n",
      "Model Family:                Binomial   Df Model:                            8\n",
      "Link Function:                  logit   Scale:                          1.0000\n",
      "Method:                          IRLS   Log-Likelihood:                -25.104\n",
      "Date:                Tue, 01 Mar 2022   Deviance:                       50.207\n",
      "Time:                        18:57:50   Pearson chi2:                     52.3\n",
      "No. Iterations:                    21                                         \n",
      "Covariance Type:            nonrobust                                         \n",
      "================================================================================================================\n",
      "                                                   coef    std err          z      P>|z|      [0.025      0.975]\n",
      "----------------------------------------------------------------------------------------------------------------\n",
      "Intercept                                      -25.3192   1.39e+04     -0.002      0.999   -2.72e+04    2.71e+04\n",
      "C(condition)[T.narrative]                       23.1562   1.39e+04      0.002      0.999   -2.71e+04    2.72e+04\n",
      "C(condition)[T.question]                        22.3613   1.39e+04      0.002      0.999   -2.71e+04    2.72e+04\n",
      "C(article)[T.salt]                              21.1133   1.39e+04      0.002      0.999   -2.71e+04    2.72e+04\n",
      "C(condition)[T.narrative]:C(article)[T.salt]   -22.9324   1.39e+04     -0.002      0.999   -2.72e+04    2.71e+04\n",
      "C(condition)[T.question]:C(article)[T.salt]    -22.0900   1.39e+04     -0.002      0.999   -2.72e+04    2.71e+04\n",
      "enjoyment_avg                                    0.5736      0.392      1.462      0.144      -0.195       1.343\n",
      "competence_avg                                   0.0888      0.389      0.228      0.820      -0.674       0.852\n",
      "effort_avg                                      -0.0787      0.383     -0.205      0.837      -0.829       0.672\n",
      "================================================================================================================\n"
     ]
    }
   ],
   "source": [
    "formula = 'completed ~ C(condition)*C(article)+C(article)+enjoyment_avg+competence_avg+effort_avg'\n",
    "model = smf.glm(formula=formula, data=glm_df, family=sm.families.Binomial())\n",
    "result2 = model.fit()\n",
    "print(result2.summary())"
   ]
  },
  {
   "cell_type": "code",
   "execution_count": 34,
   "id": "92bc4538",
   "metadata": {},
   "outputs": [
    {
     "data": {
      "image/png": "[encoded data removed]",
      "text/plain": [
       "<Figure size 432x288 with 1 Axes>"
      ]
     },
     "metadata": {
      "needs_background": "light"
     },
     "output_type": "display_data"
    }
   ],
   "source": [
    "yhat = result2.mu\n",
    "# from statsmodels.graphics.api import abline_plot\n",
    "fig, ax = plt.subplots()\n",
    "\n",
    "ax.scatter(yhat, result2.resid_pearson, label='residuals')\n",
    "ax.hlines(0, 0, 1, color='red', label='line e=0')\n",
    "ax.set_xlim(0, 1)\n",
    "ax.set_title('Residual Dependence Plot', fontsize=16)\n",
    "ax.set_ylabel('Pearson Residuals', fontsize=16)\n",
    "ax.set_xlabel('Fitted values', fontsize=16)\n",
    "ax.legend();"
   ]
  },
  {
   "cell_type": "code",
   "execution_count": 35,
   "id": "25aa7c16",
   "metadata": {},
   "outputs": [
    {
     "data": {
      "text/plain": [
       "{'degree_of_freedom': 8, 'X^2': 10.664, 'p_value': 0.06107}"
      ]
     },
     "execution_count": 35,
     "metadata": {},
     "output_type": "execute_result"
    }
   ],
   "source": [
    "# adding needed columns for Hosmer-Lemeshow Goodness of Fit\n",
    "glm_df[\"prob\"] = result2.predict(glm_df)\n",
    "glm_df['decile']=pd.qcut(glm_df.prob, 10, labels=False)\n",
    "\n",
    "# test\n",
    "chisq_test = chisq(glm_df, \"decile\", \"prob\", \"completed\")\n",
    "# chisq_test[\"Chisq_Table\"]\n",
    "chisq_test[\"hosmerlem\"]"
   ]
  },
  {
   "cell_type": "markdown",
   "id": "e12522b2",
   "metadata": {},
   "source": [
    "# Uniqueness and Benefit to others intervention"
   ]
  },
  {
   "cell_type": "markdown",
   "id": "4019d8d3",
   "metadata": {},
   "source": [
    "## Hypothesis 6"
   ]
  },
  {
   "cell_type": "markdown",
   "id": "69bcff7e",
   "metadata": {},
   "source": [
    "### One Way ANOVA Test"
   ]
  },
  {
   "cell_type": "code",
   "execution_count": 36,
   "id": "db69eceb",
   "metadata": {},
   "outputs": [
    {
     "name": "stdout",
     "output_type": "stream",
     "text": [
      "the F stat is: 3.244183415860563 and the pval is: 0.0894423126843747\n"
     ]
    }
   ],
   "source": [
    "# uniqueness\n",
    "anova_one_way = f_oneway(quit_index_baseline, quit_index_uniqueness)\n",
    "F_stat, pval = anova_one_way\n",
    "print(f'the F stat is: {F_stat} and the pval is: {pval}')"
   ]
  },
  {
   "cell_type": "markdown",
   "id": "b8358cf1",
   "metadata": {},
   "source": [
    "### Histogram"
   ]
  },
  {
   "cell_type": "code",
   "execution_count": 37,
   "id": "a8641a24",
   "metadata": {},
   "outputs": [
    {
     "data": {
      "image/png": "[encoded data removed]",
      "text/plain": [
       "<Figure size 460.8x345.6 with 1 Axes>"
      ]
     },
     "metadata": {
      "needs_background": "light"
     },
     "output_type": "display_data"
    }
   ],
   "source": [
    "plt.figure(figsize=(6.4, 4.8))\n",
    "plt.xlabel(\"Quit Index\", fontsize=16)\n",
    "plt.ylabel(\"Number of Workers\", fontsize=16)\n",
    "plt.xticks(np.arange(0, 31, step=5), fontsize=12)\n",
    "plt.yticks(np.arange(0, 20, step=1), fontsize=12)\n",
    "plt.ylim(top=10, bottom=0)\n",
    "types = ['baseline', 'uniqueness']\n",
    "n, bins, patches = plt.hist([quit_index_baseline, quit_index_uniqueness], bins=range(1,32), align='left', \n",
    "                            rwidth=1, stacked=True, density=False, label=types)\n",
    "plt.title('Number of workers who quit in each experimental condition', fontsize=16)\n",
    "plt.legend()\n",
    "axes = plt.gca()\n",
    "axes.yaxis.grid()\n",
    "plt.margins(0)\n",
    "plt.show();"
   ]
  },
  {
   "cell_type": "markdown",
   "id": "670eb210",
   "metadata": {},
   "source": [
    "### Retention Curve"
   ]
  },
  {
   "cell_type": "code",
   "execution_count": 38,
   "id": "a2f9999c",
   "metadata": {},
   "outputs": [
    {
     "name": "stdout",
     "output_type": "stream",
     "text": [
      "list_quit_index_sum=[0, 0, 2, 5, 0, 1, 1, 3, 0, 1, 2, 1, 0, 0, 0, 1, 0, 0, 0, 0, 0, 0, 0, 0, 0, 0, 0, 0, 0, 1]\n",
      "most common quiting indexes overall are: 3,4,8,11\n",
      "baseline: 3- 0, 4- 5, 8- 2, 11- 0\n",
      "uniqueness: 3- 2, 4- 1,8- 1, 11- 2\n",
      "Remaining percantages for Baseline: \n",
      "[100.0, 100.0, 100.0, 100.0, 50.0, 50.0, 40.0, 30.0, 10.0, 10.0, 0.0, 0.0, 0.0, 0.0, 0.0, 0.0, 0.0, 0.0, 0.0, 0.0, 0.0, 0.0, 0.0, 0.0, 0.0, 0.0, 0.0, 0.0, 0.0, 0.0]\n",
      "Remaining percantages for Uniqueness: \n",
      "[100.0, 100.0, 100.0, 77.778, 66.667, 66.667, 66.667, 66.667, 55.556, 55.556, 55.556, 33.333, 22.222, 22.222, 22.222, 22.222, 11.111, 11.111, 11.111, 11.111, 11.111, 11.111, 11.111, 11.111, 11.111, 11.111, 11.111, 11.111, 11.111, 11.111]\n"
     ]
    }
   ],
   "source": [
    "zipped_lists = zip(quit_index_baseline, quit_index_uniqueness)\n",
    "quit_index_sum = defaultdict(lambda:0)\n",
    "quit_index_sum_baseline = defaultdict(lambda:0)\n",
    "quit_index_sum_uniqueness = defaultdict(lambda:0)\n",
    "for (x, y) in zipped_lists:\n",
    "    quit_index_sum[x] += 1\n",
    "    quit_index_sum[y] += 1\n",
    "for x in quit_index_baseline:\n",
    "    quit_index_sum_baseline[x] += 1\n",
    "for y in quit_index_uniqueness:\n",
    "    quit_index_sum_uniqueness[y] += 1\n",
    "    \n",
    "list_quit_index_sum = []\n",
    "for i in range(1,31):\n",
    "    list_quit_index_sum.append(quit_index_sum[i])\n",
    "\n",
    "print(f\"{list_quit_index_sum=}\")\n",
    "print(f'most common quiting indexes overall are: 3,4,8,11')\n",
    "print(f'baseline: 3- {quit_index_sum_baseline[3]}, 4- {quit_index_sum_baseline[4]}, 8- {quit_index_sum_baseline[8]}, 11- {quit_index_sum_baseline[11]}')\n",
    "print(f'uniqueness: 3- {quit_index_sum_uniqueness[3]}, 4- {quit_index_sum_uniqueness[4]},8- {quit_index_sum_uniqueness[8]}, 11- {quit_index_sum_uniqueness[11]}')\n",
    "# print(quit_index_sum_baseline)\n",
    "# print(quit_index_sum_uniqueness)\n",
    "\n",
    "list_quit_index_baseline_prec = []\n",
    "list_quit_index_uniqueness_prec = []\n",
    "\n",
    "workers_num_baseline = len(df_federer_baseline)\n",
    "workers_num_uniqueness = len(df_federer_uniqueness)\n",
    "\n",
    "for i in range(1,31):\n",
    "    if i>1:\n",
    "        list_quit_index_baseline_prec.append((quit_index_sum_baseline[i]+list_quit_index_baseline_prec[-1]))\n",
    "        list_quit_index_uniqueness_prec.append((quit_index_sum_uniqueness[i]+list_quit_index_uniqueness_prec[-1]))\n",
    "\n",
    "    else:\n",
    "        list_quit_index_baseline_prec.append(quit_index_sum_baseline[i])\n",
    "        list_quit_index_uniqueness_prec.append(quit_index_sum_uniqueness[i])\n",
    "\n",
    "# fixing lists: moving all cells' values to the right- we have in each cell the num of workers that their quit index is the \n",
    "# number of the cell (i.e. the number of participants who completed #cell tasks included), so they still did the current task \n",
    "# and should be included in the percentage of workers who continue working on the task\n",
    "list_quit_index_baseline_prec_fix = [0]\n",
    "list_quit_index_uniqueness_prec_fix = [0]\n",
    "for i in range(0, len(list_quit_index_baseline_prec) - 1):\n",
    "    list_quit_index_baseline_prec_fix.append(list_quit_index_baseline_prec[i])\n",
    "    list_quit_index_uniqueness_prec_fix.append(list_quit_index_uniqueness_prec[i])\n",
    "    \n",
    "for i in range(29):\n",
    "    list_quit_index_baseline_prec_fix[i] = 100 - (list_quit_index_baseline_prec_fix[i]/workers_num_baseline) * 100\n",
    "    list_quit_index_uniqueness_prec_fix[i] = 100 - (list_quit_index_uniqueness_prec_fix[i]/workers_num_uniqueness) * 100\n",
    "\n",
    "list_quit_index_baseline_prec_fix[-1] = list_quit_index_baseline_prec_fix[-2]\n",
    "list_quit_index_uniqueness_prec_fix[-1] = list_quit_index_uniqueness_prec_fix[-2]\n",
    "\n",
    "print(f'Remaining percantages for Baseline: \\n'\n",
    "      f'{[round(i, 3) for i in list_quit_index_baseline_prec_fix]}')\n",
    "print(f'Remaining percantages for Uniqueness: \\n'\n",
    "      f'{[round(i, 3) for i in list_quit_index_uniqueness_prec_fix]}')"
   ]
  },
  {
   "cell_type": "code",
   "execution_count": 39,
   "id": "233a29b3",
   "metadata": {},
   "outputs": [
    {
     "data": {
      "image/png": "[encoded data removed]",
      "text/plain": [
       "<Figure size 460.8x345.6 with 1 Axes>"
      ]
     },
     "metadata": {
      "needs_background": "light"
     },
     "output_type": "display_data"
    }
   ],
   "source": [
    "fig, ax = plt.subplots(figsize=(6.4, 4.8))\n",
    "plt.xticks(np.arange(0, 31, step=5), fontsize=12)\n",
    "plt.yticks(np.arange(0, 110, step=10), fontsize=12)\n",
    "plt.plot(indexes, [100] + list_quit_index_uniqueness_prec_fix, label='uniqueness', linewidth=3)\n",
    "plt.plot(indexes, [100] + list_quit_index_baseline_prec_fix, label='baseline', color='r', linestyle='dashed', linewidth=3)\n",
    "plt.xlabel('Quit Index', fontsize=16)\n",
    "plt.ylabel('% of Surviving Workers', fontsize=16)\n",
    "plt.xticks(fontsize=12)\n",
    "plt.yticks(fontsize=12)\n",
    "plt.title('Uniqueness vs. Baseline', fontsize=16)\n",
    "plt.legend()\n",
    "axes = plt.gca()\n",
    "axes.yaxis.grid()\n",
    "plt.margins(0)\n",
    "plt.show();"
   ]
  },
  {
   "cell_type": "code",
   "execution_count": 40,
   "id": "8cd1ca80",
   "metadata": {},
   "outputs": [
    {
     "name": "stdout",
     "output_type": "stream",
     "text": [
      "Uniqueness mean of quit indexes is: 10.8889\n",
      "Uniqueness std of quit indexes is: 8.46233\n",
      "Uniqueness median of quit indexes is: 11.0\n"
     ]
    }
   ],
   "source": [
    "mean = df_federer_uniqueness['quit_index'].mean()\n",
    "print (f'Uniqueness mean of quit indexes is: {mean:.6}')\n",
    "std = df_federer_uniqueness['quit_index'].std()\n",
    "print (f'Uniqueness std of quit indexes is: {std:.6}')\n",
    "median = df_federer_uniqueness['quit_index'].median()\n",
    "print (f'Uniqueness median of quit indexes is: {median}')"
   ]
  },
  {
   "cell_type": "markdown",
   "id": "50262e46",
   "metadata": {},
   "source": [
    "## Hypothesis 7"
   ]
  },
  {
   "cell_type": "markdown",
   "id": "e87d9498",
   "metadata": {},
   "source": [
    "### Two Sided Proportion Test"
   ]
  },
  {
   "cell_type": "code",
   "execution_count": 41,
   "id": "9924e7ae",
   "metadata": {},
   "outputs": [
    {
     "name": "stdout",
     "output_type": "stream",
     "text": [
      "the percentage of workers how completed al 30 task in the baseline version is: 0.0%\n",
      "the percentage of workers how completed al 30 task in the uniqueness version is: 11.11111111111111%\n"
     ]
    }
   ],
   "source": [
    "# baseline\n",
    "workers_num_baseline = len(df_federer_baseline)\n",
    "comp_workers_baseline = len(df_federer_baseline[df_federer_baseline['quit_index'] == 30])\n",
    "percentage_comp_baseline = comp_workers_baseline / workers_num_baseline * 100 \n",
    "print (f'the percentage of workers how completed al 30 task in the baseline version is: {percentage_comp_baseline}%' )\n",
    "\n",
    "# uniqueness\n",
    "workers_num_uniqueness = len(df_federer_uniqueness)\n",
    "comp_workers_uniqueness = len(df_federer_uniqueness[df_federer_uniqueness['quit_index'] == 30])\n",
    "percentage_comp_uniqueness = comp_workers_uniqueness / workers_num_uniqueness * 100\n",
    "print (f'the percentage of workers how completed al 30 task in the uniqueness version is: {percentage_comp_uniqueness}%' )"
   ]
  },
  {
   "cell_type": "code",
   "execution_count": 42,
   "id": "402bc791",
   "metadata": {},
   "outputs": [
    {
     "name": "stdout",
     "output_type": "stream",
     "text": [
      "TWO-SIDED TEST: the stat is: -1.082977149423218 and the pval is: 0.27881856572687336\n"
     ]
    }
   ],
   "source": [
    "# pairwise test TWO-SIDED: uniqueness compared to the  baseline\n",
    "counts =  [comp_workers_baseline, comp_workers_uniqueness]\n",
    "nobs = [workers_num_baseline, workers_num_uniqueness]\n",
    "zstat, pval = proportions_ztest(counts, nobs)\n",
    "print(f'TWO-SIDED TEST: the stat is: {zstat} and the pval is: {pval}')"
   ]
  },
  {
   "cell_type": "code",
   "execution_count": 43,
   "id": "4aa25e68",
   "metadata": {},
   "outputs": [
    {
     "name": "stdout",
     "output_type": "stream",
     "text": [
      "ONE-SIDED TEST: the stat is: -1.082977149423218 and the pval is: 0.13940928286343668\n"
     ]
    }
   ],
   "source": [
    "# pairwise test ONE-SIDED: uniqueness compared to the  baseline\n",
    "counts =  [comp_workers_baseline, comp_workers_uniqueness]\n",
    "nobs = [workers_num_baseline, workers_num_uniqueness]\n",
    "zstat, pval = proportions_ztest(counts, nobs, alternative='smaller')\n",
    "print(f'ONE-SIDED TEST: the stat is: {zstat} and the pval is: {pval}')"
   ]
  },
  {
   "cell_type": "markdown",
   "id": "05c3ee55",
   "metadata": {},
   "source": [
    "### GLM"
   ]
  },
  {
   "cell_type": "code",
   "execution_count": 44,
   "id": "983b5cbc",
   "metadata": {},
   "outputs": [],
   "source": [
    "# adding new binary completed column\n",
    "df_federer_uniqueness['completed'] = np.where(df_federer_uniqueness['quit_index'] == 30, 1, 0)\n",
    "df_federer_benefit['completed'] = np.where(df_federer_benefit['quit_index'] == 30, 1, 0)\n",
    "\n",
    "\n",
    "# Enjoyment column\n",
    "df_federer_uniqueness['enjoyment_avg'] = df_federer_uniqueness.apply(lambda x: ((7 - x['enjoyment_1']) + x['enjoyment_2'] + \n",
    "                                                                                x['enjoyment_3'] + (7 - x['enjoyment_4'])) / 4, \n",
    "                                                                     axis=1)\n",
    "df_federer_benefit['enjoyment_avg'] = df_federer_benefit.apply(lambda x: ((7 - x['enjoyment_1']) + x['enjoyment_2'] +\n",
    "                                                                          x['enjoyment_3'] + (7 - x['enjoyment_4'])) / 4, \n",
    "                                                               axis=1)\n",
    "\n",
    "# Competence column\n",
    "df_federer_uniqueness['competence_avg'] = df_federer_uniqueness.apply(lambda x: (x['competence_1'] + x['competence_2'] + \n",
    "                                                                                 (7 - x['competence_3'])) / 3, axis=1)\n",
    "df_federer_benefit['competence_avg'] = df_federer_benefit.apply(lambda x: (x['competence_1'] + x['competence_2'] + \n",
    "                                                                           (7 - x['competence_3'])) / 3, axis=1)\n",
    "\n",
    "# Effort column\n",
    "df_federer_uniqueness['effort_avg'] = df_federer_uniqueness.apply(lambda x: ((7 - x['effort_1']) + x['effort_2']) / 2, axis=1)\n",
    "df_federer_benefit['effort_avg'] = df_federer_benefit.apply(lambda x: ((7 - x['effort_1']) + x['effort_2']) / 2, axis=1)"
   ]
  },
  {
   "cell_type": "code",
   "execution_count": 45,
   "id": "d57370c3",
   "metadata": {},
   "outputs": [
    {
     "data": {
      "text/html": [
       "<div>\n",
       "<style scoped>\n",
       "    .dataframe tbody tr th:only-of-type {\n",
       "        vertical-align: middle;\n",
       "    }\n",
       "\n",
       "    .dataframe tbody tr th {\n",
       "        vertical-align: top;\n",
       "    }\n",
       "\n",
       "    .dataframe thead th {\n",
       "        text-align: right;\n",
       "    }\n",
       "</style>\n",
       "<table border=\"1\" class=\"dataframe\">\n",
       "  <thead>\n",
       "    <tr style=\"text-align: right;\">\n",
       "      <th></th>\n",
       "      <th>index</th>\n",
       "      <th>completed</th>\n",
       "      <th>condition</th>\n",
       "      <th>enjoyment_avg</th>\n",
       "      <th>competence_avg</th>\n",
       "      <th>effort_avg</th>\n",
       "    </tr>\n",
       "  </thead>\n",
       "  <tbody>\n",
       "    <tr>\n",
       "      <th>0</th>\n",
       "      <td>0</td>\n",
       "      <td>0</td>\n",
       "      <td>baseline</td>\n",
       "      <td>1.75</td>\n",
       "      <td>2.000000</td>\n",
       "      <td>6.0</td>\n",
       "    </tr>\n",
       "    <tr>\n",
       "      <th>1</th>\n",
       "      <td>1</td>\n",
       "      <td>0</td>\n",
       "      <td>baseline</td>\n",
       "      <td>6.50</td>\n",
       "      <td>6.666667</td>\n",
       "      <td>6.5</td>\n",
       "    </tr>\n",
       "    <tr>\n",
       "      <th>2</th>\n",
       "      <td>2</td>\n",
       "      <td>0</td>\n",
       "      <td>baseline</td>\n",
       "      <td>2.00</td>\n",
       "      <td>3.000000</td>\n",
       "      <td>5.0</td>\n",
       "    </tr>\n",
       "    <tr>\n",
       "      <th>3</th>\n",
       "      <td>3</td>\n",
       "      <td>0</td>\n",
       "      <td>baseline</td>\n",
       "      <td>0.75</td>\n",
       "      <td>3.666667</td>\n",
       "      <td>4.0</td>\n",
       "    </tr>\n",
       "    <tr>\n",
       "      <th>4</th>\n",
       "      <td>4</td>\n",
       "      <td>0</td>\n",
       "      <td>baseline</td>\n",
       "      <td>2.25</td>\n",
       "      <td>4.666667</td>\n",
       "      <td>3.5</td>\n",
       "    </tr>\n",
       "  </tbody>\n",
       "</table>\n",
       "</div>"
      ],
      "text/plain": [
       "   index  completed condition  enjoyment_avg  competence_avg  effort_avg\n",
       "0      0          0  baseline           1.75        2.000000         6.0\n",
       "1      1          0  baseline           6.50        6.666667         6.5\n",
       "2      2          0  baseline           2.00        3.000000         5.0\n",
       "3      3          0  baseline           0.75        3.666667         4.0\n",
       "4      4          0  baseline           2.25        4.666667         3.5"
      ]
     },
     "execution_count": 45,
     "metadata": {},
     "output_type": "execute_result"
    }
   ],
   "source": [
    "# creating the dataframe for glm\n",
    "df_federer_uniqueness['condition'] = 'federer_uniqueness'\n",
    "df_federer_benefit['condition'] = 'federer_benefit'\n",
    "\n",
    "desired_columns = ['completed', 'condition', 'enjoyment_avg', 'competence_avg', 'effort_avg']\n",
    "df_federer_baseline_to_glm = df_federer_baseline[desired_columns].copy()\n",
    "df_federer_uniqueness_to_glm = df_federer_uniqueness[desired_columns].copy()\n",
    "df_federer_benefit_to_glm = df_federer_benefit[desired_columns].copy()\n",
    "\n",
    "glm_df = pd.concat([df_federer_baseline_to_glm, df_federer_uniqueness_to_glm, df_federer_benefit_to_glm]).reset_index()\n",
    "glm_df.head()"
   ]
  },
  {
   "cell_type": "code",
   "execution_count": 46,
   "id": "4899c13e",
   "metadata": {},
   "outputs": [],
   "source": [
    "# formula = 'completed ~ C(condition)+enjoyment_avg+competence_avg+effort_avg'\n",
    "# model = smf.glm(formula=formula, data=glm_df, family=sm.families.Binomial())\n",
    "# result = model.fit()\n",
    "# print(result.summary())"
   ]
  },
  {
   "cell_type": "markdown",
   "id": "f99f906c",
   "metadata": {},
   "source": [
    "## Hypothesis 8\n",
    "prints on Hypothesis 3"
   ]
  },
  {
   "cell_type": "markdown",
   "id": "d3e45307",
   "metadata": {},
   "source": [
    "### Kruskal-Wallis Test"
   ]
  },
  {
   "cell_type": "code",
   "execution_count": 47,
   "id": "ee76de77",
   "metadata": {},
   "outputs": [
    {
     "name": "stdout",
     "output_type": "stream",
     "text": [
      "the chi2stat is: 2.2836698858647932 and the pval is: 0.13074218417183428\n"
     ]
    }
   ],
   "source": [
    "chi2stat,pval = stats.kruskal(error_rates_baseline, error_rates_uniqueness)\n",
    "print(f'the chi2stat is: {chi2stat} and the pval is: {pval}')"
   ]
  },
  {
   "cell_type": "markdown",
   "id": "3ff02730",
   "metadata": {},
   "source": [
    "## Hypothesis 9"
   ]
  },
  {
   "cell_type": "markdown",
   "id": "14e3db12",
   "metadata": {},
   "source": [
    "### One Way ANOVA Test"
   ]
  },
  {
   "cell_type": "code",
   "execution_count": 48,
   "id": "258b7f3b",
   "metadata": {},
   "outputs": [
    {
     "name": "stdout",
     "output_type": "stream",
     "text": [
      "the F stat is: 0.9581148833738862 and the pval is: 0.34138749686934905\n"
     ]
    }
   ],
   "source": [
    "# benefit to others intervention\n",
    "anova_one_way = f_oneway(quit_index_baseline, quit_index_benefit)\n",
    "F_stat, pval = anova_one_way\n",
    "print(f'the F stat is: {F_stat} and the pval is: {pval}')"
   ]
  },
  {
   "cell_type": "markdown",
   "id": "c848851a",
   "metadata": {},
   "source": [
    "### Histogram"
   ]
  },
  {
   "cell_type": "code",
   "execution_count": 49,
   "id": "ce1844bf",
   "metadata": {},
   "outputs": [
    {
     "data": {
      "image/png": "[encoded data removed]",
      "text/plain": [
       "<Figure size 460.8x345.6 with 1 Axes>"
      ]
     },
     "metadata": {
      "needs_background": "light"
     },
     "output_type": "display_data"
    }
   ],
   "source": [
    "plt.figure(figsize=(6.4, 4.8))\n",
    "plt.xlabel(\"Quit Index\", fontsize=16)\n",
    "plt.ylabel(\"Number of Workers\", fontsize=16)\n",
    "plt.xticks(np.arange(0, 31, step=5), fontsize=12)\n",
    "plt.yticks(np.arange(0, 20, step=1), fontsize=12)\n",
    "plt.ylim(top=10, bottom=0)\n",
    "types = ['baseline', 'benefit to others intervention']\n",
    "n, bins, patches = plt.hist([quit_index_baseline, quit_index_benefit], bins=range(1,32), align='left', \n",
    "                            rwidth=1, stacked=True, density=False, label=types)\n",
    "plt.title('Number of workers who quit in each experimental condition', fontsize=16)\n",
    "plt.legend()\n",
    "axes = plt.gca()\n",
    "axes.yaxis.grid()\n",
    "plt.margins(0)\n",
    "plt.show();"
   ]
  },
  {
   "cell_type": "markdown",
   "id": "30e46ae7",
   "metadata": {},
   "source": [
    "### Retention Curve"
   ]
  },
  {
   "cell_type": "code",
   "execution_count": 50,
   "id": "ad5d29f6",
   "metadata": {},
   "outputs": [
    {
     "name": "stdout",
     "output_type": "stream",
     "text": [
      "list_quit_index_sum=[0, 0, 3, 7, 1, 1, 1, 2, 0, 1, 0, 0, 0, 0, 0, 0, 0, 0, 0, 0, 0, 0, 0, 0, 0, 0, 0, 0, 0, 2]\n",
      "most common quiting indexes overall are: 3,4,8\n",
      "baseline: 3- 0, 4- 5, 8- 2\n",
      "benefit: 3- 3, 4- 3,8- 0\n",
      "Remaining percantages for Baseline: \n",
      "[100.0, 100.0, 100.0, 100.0, 50.0, 50.0, 40.0, 30.0, 10.0, 10.0, 0.0, 0.0, 0.0, 0.0, 0.0, 0.0, 0.0, 0.0, 0.0, 0.0, 0.0, 0.0, 0.0, 0.0, 0.0, 0.0, 0.0, 0.0, 0.0, 0.0]\n",
      "Remaining percantages for Benefit: \n",
      "[100.0, 100.0, 100.0, 66.667, 33.333, 22.222, 22.222, 22.222, 22.222, 22.222, 22.222, 22.222, 22.222, 22.222, 22.222, 22.222, 22.222, 22.222, 22.222, 22.222, 22.222, 22.222, 22.222, 22.222, 22.222, 22.222, 22.222, 22.222, 22.222, 22.222]\n"
     ]
    }
   ],
   "source": [
    "zipped_lists = zip(quit_index_baseline, quit_index_benefit)\n",
    "quit_index_sum = defaultdict(lambda:0)\n",
    "quit_index_sum_baseline = defaultdict(lambda:0)\n",
    "quit_index_sum_benefit = defaultdict(lambda:0)\n",
    "for (x, y) in zipped_lists:\n",
    "    quit_index_sum[x] += 1\n",
    "    quit_index_sum[y] += 1\n",
    "for x in quit_index_baseline:\n",
    "    quit_index_sum_baseline[x] += 1\n",
    "for y in quit_index_benefit:\n",
    "    quit_index_sum_benefit[y] += 1\n",
    "    \n",
    "list_quit_index_sum = []\n",
    "for i in range(1,31):\n",
    "    list_quit_index_sum.append(quit_index_sum[i])\n",
    "\n",
    "print(f\"{list_quit_index_sum=}\")\n",
    "print(f'most common quiting indexes overall are: 3,4,8')\n",
    "print(f'baseline: 3- {quit_index_sum_baseline[3]}, 4- {quit_index_sum_baseline[4]}, 8- {quit_index_sum_baseline[8]}')\n",
    "print(f'benefit: 3- {quit_index_sum_benefit[3]}, 4- {quit_index_sum_benefit[4]},8- {quit_index_sum_benefit[8]}')\n",
    "# print(quit_index_sum_baseline)\n",
    "# print(quit_index_sum_benefit)\n",
    "\n",
    "list_quit_index_baseline_prec = []\n",
    "list_quit_index_benefit_prec = []\n",
    "\n",
    "workers_num_baseline = len(df_federer_baseline)\n",
    "workers_num_benefit = len(df_federer_benefit)\n",
    "\n",
    "for i in range(1,31):\n",
    "    if i>1:\n",
    "        list_quit_index_baseline_prec.append((quit_index_sum_baseline[i]+list_quit_index_baseline_prec[-1]))\n",
    "        list_quit_index_benefit_prec.append((quit_index_sum_benefit[i]+list_quit_index_benefit_prec[-1]))\n",
    "\n",
    "    else:\n",
    "        list_quit_index_baseline_prec.append(quit_index_sum_baseline[i])\n",
    "        list_quit_index_benefit_prec.append(quit_index_sum_benefit[i])\n",
    "\n",
    "# fixing lists: moving all cells' values to the right- we have in each cell the num of workers that their quit index is the \n",
    "# number of the cell (i.e. the number of participants who completed #cell tasks included), so they still did the current task \n",
    "# and should be included in the percentage of workers who continue working on the task\n",
    "list_quit_index_baseline_prec_fix = [0]\n",
    "list_quit_index_benefit_prec_fix = [0]\n",
    "for i in range(0, len(list_quit_index_baseline_prec) - 1):\n",
    "    list_quit_index_baseline_prec_fix.append(list_quit_index_baseline_prec[i])\n",
    "    list_quit_index_benefit_prec_fix.append(list_quit_index_benefit_prec[i])\n",
    "    \n",
    "for i in range(29):\n",
    "    list_quit_index_baseline_prec_fix[i] = 100 - (list_quit_index_baseline_prec_fix[i]/workers_num_baseline) * 100\n",
    "    list_quit_index_benefit_prec_fix[i] = 100 - (list_quit_index_benefit_prec_fix[i]/workers_num_benefit) * 100\n",
    "\n",
    "list_quit_index_baseline_prec_fix[-1] = list_quit_index_baseline_prec_fix[-2]\n",
    "list_quit_index_benefit_prec_fix[-1] = list_quit_index_benefit_prec_fix[-2]\n",
    "\n",
    "print(f'Remaining percantages for Baseline: \\n'\n",
    "      f'{[round(i, 3) for i in list_quit_index_baseline_prec_fix]}')\n",
    "print(f'Remaining percantages for Benefit: \\n'\n",
    "      f'{[round(i, 3) for i in list_quit_index_benefit_prec_fix]}')"
   ]
  },
  {
   "cell_type": "code",
   "execution_count": 51,
   "id": "d2da1d5e",
   "metadata": {},
   "outputs": [
    {
     "data": {
      "image/png": "[encoded data removed]",
      "text/plain": [
       "<Figure size 460.8x345.6 with 1 Axes>"
      ]
     },
     "metadata": {
      "needs_background": "light"
     },
     "output_type": "display_data"
    }
   ],
   "source": [
    "fig, ax = plt.subplots(figsize=(6.4, 4.8))\n",
    "plt.xticks(np.arange(0, 31, step=5), fontsize=12)\n",
    "plt.yticks(np.arange(0, 110, step=10), fontsize=12)\n",
    "plt.plot(indexes, [100] + list_quit_index_benefit_prec_fix, label='benefit to others intervention', linewidth=3)\n",
    "plt.plot(indexes, [100] + list_quit_index_baseline_prec_fix, label='baseline', color='r', linestyle='dashed', linewidth=3)\n",
    "plt.xlabel('Quit Index', fontsize=16)\n",
    "plt.ylabel('% of Surviving Workers', fontsize=16)\n",
    "plt.xticks(fontsize=12)\n",
    "plt.yticks(fontsize=12)\n",
    "plt.title('Benefit to others intervention vs. Baseline', fontsize=16)\n",
    "plt.legend()\n",
    "axes = plt.gca()\n",
    "axes.yaxis.grid()\n",
    "plt.margins(0)\n",
    "plt.show();"
   ]
  },
  {
   "cell_type": "code",
   "execution_count": 52,
   "id": "1a92beab",
   "metadata": {},
   "outputs": [
    {
     "name": "stdout",
     "output_type": "stream",
     "text": [
      "Benefit mean of quit indexes is: 9.55556\n",
      "Benefit std of quit indexes is: 11.6094\n",
      "Benefit median of quit indexes is: 4.0\n"
     ]
    }
   ],
   "source": [
    "mean = df_federer_benefit['quit_index'].mean()\n",
    "print (f'Benefit mean of quit indexes is: {mean:.6}')\n",
    "std = df_federer_benefit['quit_index'].std()\n",
    "print (f'Benefit std of quit indexes is: {std:.6}')\n",
    "median = df_federer_benefit['quit_index'].median()\n",
    "print (f'Benefit median of quit indexes is: {median}')"
   ]
  },
  {
   "cell_type": "markdown",
   "id": "eda99dc0",
   "metadata": {},
   "source": [
    "## Hypothesis 10"
   ]
  },
  {
   "cell_type": "markdown",
   "id": "bb691a9e",
   "metadata": {},
   "source": [
    "### Two Sided Proportion Test"
   ]
  },
  {
   "cell_type": "code",
   "execution_count": 53,
   "id": "43ca6c18",
   "metadata": {},
   "outputs": [
    {
     "name": "stdout",
     "output_type": "stream",
     "text": [
      "the percentage of workers how completed al 30 task in the baseline version is: 0.0%\n",
      "the percentage of workers how completed al 30 task in the benefit version is: 22.22222222222222%\n"
     ]
    }
   ],
   "source": [
    "# baseline\n",
    "workers_num_baseline = len(df_federer_baseline)\n",
    "comp_workers_baseline = len(df_federer_baseline[df_federer_baseline['quit_index'] == 30])\n",
    "percentage_comp_baseline = comp_workers_baseline / workers_num_baseline * 100 \n",
    "print (f'the percentage of workers how completed al 30 task in the baseline version is: {percentage_comp_baseline}%' )\n",
    "\n",
    "# benefit\n",
    "workers_num_benefit = len(df_federer_benefit)\n",
    "comp_workers_benefit = len(df_federer_benefit[df_federer_benefit['quit_index'] == 30])\n",
    "percentage_comp_benefit = comp_workers_benefit / workers_num_benefit * 100\n",
    "print (f'the percentage of workers how completed al 30 task in the benefit version is: {percentage_comp_benefit}%' )"
   ]
  },
  {
   "cell_type": "code",
   "execution_count": 54,
   "id": "908acf3b",
   "metadata": {},
   "outputs": [
    {
     "name": "stdout",
     "output_type": "stream",
     "text": [
      "TWO-SIDED TEST: the stat is: -1.5759632390125584 and the pval is: 0.1150342753831828\n"
     ]
    }
   ],
   "source": [
    "# pairwise test TWO-SIDED: benefit compared to the  baseline\n",
    "counts =  [comp_workers_baseline, comp_workers_benefit]\n",
    "nobs = [workers_num_baseline, workers_num_benefit]\n",
    "zstat, pval = proportions_ztest(counts, nobs)\n",
    "print(f'TWO-SIDED TEST: the stat is: {zstat} and the pval is: {pval}')"
   ]
  },
  {
   "cell_type": "code",
   "execution_count": 55,
   "id": "fa232777",
   "metadata": {},
   "outputs": [
    {
     "name": "stdout",
     "output_type": "stream",
     "text": [
      "ONE-SIDED TEST: the stat is: -1.5759632390125584 and the pval is: 0.0575171376915914\n"
     ]
    }
   ],
   "source": [
    "# pairwise test ONE-SIDED: benefit compared to the  baseline\n",
    "counts =  [comp_workers_baseline, comp_workers_benefit]\n",
    "nobs = [workers_num_baseline, workers_num_benefit]\n",
    "zstat, pval = proportions_ztest(counts, nobs, alternative='smaller')\n",
    "print(f'ONE-SIDED TEST: the stat is: {zstat} and the pval is: {pval}')"
   ]
  },
  {
   "cell_type": "markdown",
   "id": "682dee60",
   "metadata": {},
   "source": [
    "### GLM"
   ]
  },
  {
   "cell_type": "markdown",
   "id": "6bc1decc",
   "metadata": {},
   "source": [
    "Not working like in uniqueness"
   ]
  },
  {
   "cell_type": "markdown",
   "id": "a385de7d",
   "metadata": {},
   "source": [
    "## Hypothesis 11\n",
    "prints on Hypothesis 3"
   ]
  },
  {
   "cell_type": "markdown",
   "id": "1b0c4465",
   "metadata": {},
   "source": [
    "### Kruskal-Wallis Test"
   ]
  },
  {
   "cell_type": "code",
   "execution_count": 56,
   "id": "dacb6f8f",
   "metadata": {},
   "outputs": [
    {
     "name": "stdout",
     "output_type": "stream",
     "text": [
      "the chi2stat is: 0.10666666666666913 and the pval is: 0.7439714780750541\n"
     ]
    }
   ],
   "source": [
    "chi2stat,pval = stats.kruskal(error_rates_baseline, error_rates_benefit)\n",
    "print(f'the chi2stat is: {chi2stat} and the pval is: {pval}')"
   ]
  },
  {
   "cell_type": "markdown",
   "id": "c48e5142",
   "metadata": {},
   "source": [
    "# Demographic Recommender System\n"
   ]
  },
  {
   "cell_type": "code",
   "execution_count": 57,
   "id": "4cd7af52",
   "metadata": {},
   "outputs": [
    {
     "data": {
      "text/html": [
       "<div>\n",
       "<style scoped>\n",
       "    .dataframe tbody tr th:only-of-type {\n",
       "        vertical-align: middle;\n",
       "    }\n",
       "\n",
       "    .dataframe tbody tr th {\n",
       "        vertical-align: top;\n",
       "    }\n",
       "\n",
       "    .dataframe thead th {\n",
       "        text-align: right;\n",
       "    }\n",
       "</style>\n",
       "<table border=\"1\" class=\"dataframe\">\n",
       "  <thead>\n",
       "    <tr style=\"text-align: right;\">\n",
       "      <th></th>\n",
       "      <th>age</th>\n",
       "      <th>gender</th>\n",
       "      <th>What is your Education Level:</th>\n",
       "      <th>quit_index</th>\n",
       "      <th>condition</th>\n",
       "    </tr>\n",
       "  </thead>\n",
       "  <tbody>\n",
       "    <tr>\n",
       "      <th>0</th>\n",
       "      <td>67</td>\n",
       "      <td>Female</td>\n",
       "      <td>High school education</td>\n",
       "      <td>8</td>\n",
       "      <td>federer_baseline</td>\n",
       "    </tr>\n",
       "    <tr>\n",
       "      <th>1</th>\n",
       "      <td>48</td>\n",
       "      <td>Male</td>\n",
       "      <td>Bachelorג€™s or equivalent level of education</td>\n",
       "      <td>4</td>\n",
       "      <td>federer_baseline</td>\n",
       "    </tr>\n",
       "    <tr>\n",
       "      <th>2</th>\n",
       "      <td>18</td>\n",
       "      <td>Female</td>\n",
       "      <td>High school education</td>\n",
       "      <td>7</td>\n",
       "      <td>federer_baseline</td>\n",
       "    </tr>\n",
       "    <tr>\n",
       "      <th>3</th>\n",
       "      <td>50</td>\n",
       "      <td>Female</td>\n",
       "      <td>Masterג€™s+ or equivalent level of education</td>\n",
       "      <td>6</td>\n",
       "      <td>federer_baseline</td>\n",
       "    </tr>\n",
       "    <tr>\n",
       "      <th>4</th>\n",
       "      <td>25</td>\n",
       "      <td>Female</td>\n",
       "      <td>Other</td>\n",
       "      <td>10</td>\n",
       "      <td>federer_baseline</td>\n",
       "    </tr>\n",
       "  </tbody>\n",
       "</table>\n",
       "</div>"
      ],
      "text/plain": [
       "   age  gender                  What is your Education Level:  quit_index  \\\n",
       "0   67  Female                          High school education           8   \n",
       "1   48    Male  Bachelorג€™s or equivalent level of education           4   \n",
       "2   18  Female                          High school education           7   \n",
       "3   50  Female   Masterג€™s+ or equivalent level of education           6   \n",
       "4   25  Female                                          Other          10   \n",
       "\n",
       "          condition  \n",
       "0  federer_baseline  \n",
       "1  federer_baseline  \n",
       "2  federer_baseline  \n",
       "3  federer_baseline  \n",
       "4  federer_baseline  "
      ]
     },
     "execution_count": 57,
     "metadata": {},
     "output_type": "execute_result"
    }
   ],
   "source": [
    "desired_columns = ['age', 'gender', 'What is your Education Level:','quit_index', 'condition']\n",
    "df_federer_baseline.replace({'condition': {'baseline': 'federer_baseline'}}, inplace=True)\n",
    "df_federer_question.replace({'condition': {'question': 'federer_question'}}, inplace=True)\n",
    "df_federer_narrative.replace({'condition': {'narrative': 'federer_narrative'}}, inplace=True)\n",
    "\n",
    "df_federer_baseline_demographics = df_federer_baseline[desired_columns]\n",
    "df_federer_question_demographics = df_federer_question[desired_columns]\n",
    "df_federer_narrative_demographics = df_federer_narrative[desired_columns]\n",
    "df_federer_demographics = pd.concat([df_federer_baseline_demographics, df_federer_question_demographics, \n",
    "                                     df_federer_narrative_demographics])\n",
    "df_federer_demographics.head()"
   ]
  },
  {
   "cell_type": "code",
   "execution_count": 58,
   "id": "ba11a005",
   "metadata": {},
   "outputs": [],
   "source": [
    "df_federer_demographics = df_federer_demographics.rename(columns={'What is your Education Level:': 'Education Level'})\n",
    "df_federer_demographics = df_federer_demographics.replace({'High school education': 'High school','Bachelorג€™s or equivalent level of education':'Bachelor',\n",
    "                                'Masterג€™s+ or equivalent level of education':'Master'})"
   ]
  },
  {
   "cell_type": "code",
   "execution_count": 59,
   "id": "ae97369e",
   "metadata": {},
   "outputs": [
    {
     "data": {
      "image/png": "[encoded data removed]",
      "text/plain": [
       "<Figure size 432x288 with 1 Axes>"
      ]
     },
     "metadata": {
      "needs_background": "light"
     },
     "output_type": "display_data"
    }
   ],
   "source": [
    "sns.countplot(x='gender', data=df_federer_demographics);\n",
    "plt.title('Distribution of Gender');"
   ]
  },
  {
   "cell_type": "code",
   "execution_count": 60,
   "id": "ff43bff5",
   "metadata": {},
   "outputs": [
    {
     "data": {
      "image/png": "[encoded data removed]",
      "text/plain": [
       "<Figure size 432x288 with 1 Axes>"
      ]
     },
     "metadata": {
      "needs_background": "light"
     },
     "output_type": "display_data"
    }
   ],
   "source": [
    "df_federer_demographics.hist('age', bins=35, alpha=0.8);\n",
    "plt.title('Distribution of Age');\n",
    "plt.xlabel('Age');"
   ]
  },
  {
   "cell_type": "code",
   "execution_count": 61,
   "id": "88d5154e",
   "metadata": {},
   "outputs": [
    {
     "data": {
      "image/png": "[encoded data removed]",
      "text/plain": [
       "<Figure size 432x288 with 1 Axes>"
      ]
     },
     "metadata": {
      "needs_background": "light"
     },
     "output_type": "display_data"
    }
   ],
   "source": [
    "plt.hist('age', data=df_federer_demographics[df_federer_demographics['gender'] == 'Male'], alpha=0.5, label='Male');\n",
    "plt.hist('age', data=df_federer_demographics[df_federer_demographics['gender'] == 'Female'], alpha=0.5, label='Female');\n",
    "plt.title('Distribution of Age by Gender');\n",
    "plt.xlabel('Age');\n",
    "plt.legend();"
   ]
  },
  {
   "cell_type": "code",
   "execution_count": 62,
   "id": "0df200fb",
   "metadata": {},
   "outputs": [
    {
     "data": {
      "image/png": "[encoded data removed]",
      "text/plain": [
       "<Figure size 432x288 with 1 Axes>"
      ]
     },
     "metadata": {
      "needs_background": "light"
     },
     "output_type": "display_data"
    }
   ],
   "source": [
    "sns.countplot(x='Education Level', data=df_federer_demographics);\n",
    "plt.title('Distribution of Education Level');"
   ]
  },
  {
   "cell_type": "code",
   "execution_count": 63,
   "id": "d1771373",
   "metadata": {},
   "outputs": [
    {
     "data": {
      "text/html": [
       "<div>\n",
       "<style scoped>\n",
       "    .dataframe tbody tr th:only-of-type {\n",
       "        vertical-align: middle;\n",
       "    }\n",
       "\n",
       "    .dataframe tbody tr th {\n",
       "        vertical-align: top;\n",
       "    }\n",
       "\n",
       "    .dataframe thead th {\n",
       "        text-align: right;\n",
       "    }\n",
       "</style>\n",
       "<table border=\"1\" class=\"dataframe\">\n",
       "  <thead>\n",
       "    <tr style=\"text-align: right;\">\n",
       "      <th></th>\n",
       "      <th>age</th>\n",
       "      <th>gender</th>\n",
       "      <th>Education Level</th>\n",
       "      <th>quit_index</th>\n",
       "      <th>condition</th>\n",
       "    </tr>\n",
       "  </thead>\n",
       "  <tbody>\n",
       "    <tr>\n",
       "      <th>0</th>\n",
       "      <td>67</td>\n",
       "      <td>1</td>\n",
       "      <td>1</td>\n",
       "      <td>8</td>\n",
       "      <td>0</td>\n",
       "    </tr>\n",
       "    <tr>\n",
       "      <th>1</th>\n",
       "      <td>48</td>\n",
       "      <td>0</td>\n",
       "      <td>2</td>\n",
       "      <td>4</td>\n",
       "      <td>0</td>\n",
       "    </tr>\n",
       "    <tr>\n",
       "      <th>2</th>\n",
       "      <td>18</td>\n",
       "      <td>1</td>\n",
       "      <td>1</td>\n",
       "      <td>7</td>\n",
       "      <td>0</td>\n",
       "    </tr>\n",
       "    <tr>\n",
       "      <th>3</th>\n",
       "      <td>50</td>\n",
       "      <td>1</td>\n",
       "      <td>3</td>\n",
       "      <td>6</td>\n",
       "      <td>0</td>\n",
       "    </tr>\n",
       "    <tr>\n",
       "      <th>4</th>\n",
       "      <td>25</td>\n",
       "      <td>1</td>\n",
       "      <td>0</td>\n",
       "      <td>10</td>\n",
       "      <td>0</td>\n",
       "    </tr>\n",
       "    <tr>\n",
       "      <th>5</th>\n",
       "      <td>31</td>\n",
       "      <td>0</td>\n",
       "      <td>2</td>\n",
       "      <td>8</td>\n",
       "      <td>0</td>\n",
       "    </tr>\n",
       "    <tr>\n",
       "      <th>6</th>\n",
       "      <td>22</td>\n",
       "      <td>1</td>\n",
       "      <td>1</td>\n",
       "      <td>4</td>\n",
       "      <td>0</td>\n",
       "    </tr>\n",
       "    <tr>\n",
       "      <th>7</th>\n",
       "      <td>24</td>\n",
       "      <td>1</td>\n",
       "      <td>2</td>\n",
       "      <td>4</td>\n",
       "      <td>0</td>\n",
       "    </tr>\n",
       "    <tr>\n",
       "      <th>8</th>\n",
       "      <td>28</td>\n",
       "      <td>0</td>\n",
       "      <td>1</td>\n",
       "      <td>4</td>\n",
       "      <td>0</td>\n",
       "    </tr>\n",
       "    <tr>\n",
       "      <th>9</th>\n",
       "      <td>21</td>\n",
       "      <td>1</td>\n",
       "      <td>2</td>\n",
       "      <td>4</td>\n",
       "      <td>0</td>\n",
       "    </tr>\n",
       "    <tr>\n",
       "      <th>0</th>\n",
       "      <td>19</td>\n",
       "      <td>1</td>\n",
       "      <td>1</td>\n",
       "      <td>4</td>\n",
       "      <td>1</td>\n",
       "    </tr>\n",
       "    <tr>\n",
       "      <th>1</th>\n",
       "      <td>20</td>\n",
       "      <td>1</td>\n",
       "      <td>1</td>\n",
       "      <td>5</td>\n",
       "      <td>1</td>\n",
       "    </tr>\n",
       "    <tr>\n",
       "      <th>2</th>\n",
       "      <td>21</td>\n",
       "      <td>0</td>\n",
       "      <td>1</td>\n",
       "      <td>4</td>\n",
       "      <td>1</td>\n",
       "    </tr>\n",
       "    <tr>\n",
       "      <th>3</th>\n",
       "      <td>25</td>\n",
       "      <td>1</td>\n",
       "      <td>2</td>\n",
       "      <td>30</td>\n",
       "      <td>1</td>\n",
       "    </tr>\n",
       "    <tr>\n",
       "      <th>4</th>\n",
       "      <td>19</td>\n",
       "      <td>0</td>\n",
       "      <td>1</td>\n",
       "      <td>8</td>\n",
       "      <td>1</td>\n",
       "    </tr>\n",
       "    <tr>\n",
       "      <th>5</th>\n",
       "      <td>29</td>\n",
       "      <td>1</td>\n",
       "      <td>2</td>\n",
       "      <td>30</td>\n",
       "      <td>1</td>\n",
       "    </tr>\n",
       "    <tr>\n",
       "      <th>6</th>\n",
       "      <td>29</td>\n",
       "      <td>1</td>\n",
       "      <td>2</td>\n",
       "      <td>30</td>\n",
       "      <td>1</td>\n",
       "    </tr>\n",
       "    <tr>\n",
       "      <th>7</th>\n",
       "      <td>31</td>\n",
       "      <td>0</td>\n",
       "      <td>2</td>\n",
       "      <td>8</td>\n",
       "      <td>1</td>\n",
       "    </tr>\n",
       "    <tr>\n",
       "      <th>8</th>\n",
       "      <td>24</td>\n",
       "      <td>0</td>\n",
       "      <td>2</td>\n",
       "      <td>4</td>\n",
       "      <td>1</td>\n",
       "    </tr>\n",
       "    <tr>\n",
       "      <th>9</th>\n",
       "      <td>28</td>\n",
       "      <td>1</td>\n",
       "      <td>2</td>\n",
       "      <td>6</td>\n",
       "      <td>1</td>\n",
       "    </tr>\n",
       "    <tr>\n",
       "      <th>10</th>\n",
       "      <td>29</td>\n",
       "      <td>0</td>\n",
       "      <td>1</td>\n",
       "      <td>12</td>\n",
       "      <td>1</td>\n",
       "    </tr>\n",
       "    <tr>\n",
       "      <th>0</th>\n",
       "      <td>26</td>\n",
       "      <td>2</td>\n",
       "      <td>2</td>\n",
       "      <td>4</td>\n",
       "      <td>2</td>\n",
       "    </tr>\n",
       "    <tr>\n",
       "      <th>1</th>\n",
       "      <td>30</td>\n",
       "      <td>0</td>\n",
       "      <td>3</td>\n",
       "      <td>4</td>\n",
       "      <td>2</td>\n",
       "    </tr>\n",
       "    <tr>\n",
       "      <th>2</th>\n",
       "      <td>30</td>\n",
       "      <td>1</td>\n",
       "      <td>2</td>\n",
       "      <td>4</td>\n",
       "      <td>2</td>\n",
       "    </tr>\n",
       "    <tr>\n",
       "      <th>3</th>\n",
       "      <td>25</td>\n",
       "      <td>1</td>\n",
       "      <td>1</td>\n",
       "      <td>4</td>\n",
       "      <td>2</td>\n",
       "    </tr>\n",
       "    <tr>\n",
       "      <th>4</th>\n",
       "      <td>23</td>\n",
       "      <td>0</td>\n",
       "      <td>2</td>\n",
       "      <td>4</td>\n",
       "      <td>2</td>\n",
       "    </tr>\n",
       "    <tr>\n",
       "      <th>5</th>\n",
       "      <td>28</td>\n",
       "      <td>1</td>\n",
       "      <td>2</td>\n",
       "      <td>30</td>\n",
       "      <td>2</td>\n",
       "    </tr>\n",
       "    <tr>\n",
       "      <th>6</th>\n",
       "      <td>43</td>\n",
       "      <td>0</td>\n",
       "      <td>3</td>\n",
       "      <td>8</td>\n",
       "      <td>2</td>\n",
       "    </tr>\n",
       "    <tr>\n",
       "      <th>7</th>\n",
       "      <td>30</td>\n",
       "      <td>2</td>\n",
       "      <td>2</td>\n",
       "      <td>4</td>\n",
       "      <td>2</td>\n",
       "    </tr>\n",
       "    <tr>\n",
       "      <th>8</th>\n",
       "      <td>53</td>\n",
       "      <td>0</td>\n",
       "      <td>3</td>\n",
       "      <td>30</td>\n",
       "      <td>2</td>\n",
       "    </tr>\n",
       "    <tr>\n",
       "      <th>9</th>\n",
       "      <td>32</td>\n",
       "      <td>0</td>\n",
       "      <td>1</td>\n",
       "      <td>30</td>\n",
       "      <td>2</td>\n",
       "    </tr>\n",
       "    <tr>\n",
       "      <th>10</th>\n",
       "      <td>50</td>\n",
       "      <td>0</td>\n",
       "      <td>2</td>\n",
       "      <td>30</td>\n",
       "      <td>2</td>\n",
       "    </tr>\n",
       "  </tbody>\n",
       "</table>\n",
       "</div>"
      ],
      "text/plain": [
       "    age  gender  Education Level  quit_index  condition\n",
       "0    67       1                1           8          0\n",
       "1    48       0                2           4          0\n",
       "2    18       1                1           7          0\n",
       "3    50       1                3           6          0\n",
       "4    25       1                0          10          0\n",
       "5    31       0                2           8          0\n",
       "6    22       1                1           4          0\n",
       "7    24       1                2           4          0\n",
       "8    28       0                1           4          0\n",
       "9    21       1                2           4          0\n",
       "0    19       1                1           4          1\n",
       "1    20       1                1           5          1\n",
       "2    21       0                1           4          1\n",
       "3    25       1                2          30          1\n",
       "4    19       0                1           8          1\n",
       "5    29       1                2          30          1\n",
       "6    29       1                2          30          1\n",
       "7    31       0                2           8          1\n",
       "8    24       0                2           4          1\n",
       "9    28       1                2           6          1\n",
       "10   29       0                1          12          1\n",
       "0    26       2                2           4          2\n",
       "1    30       0                3           4          2\n",
       "2    30       1                2           4          2\n",
       "3    25       1                1           4          2\n",
       "4    23       0                2           4          2\n",
       "5    28       1                2          30          2\n",
       "6    43       0                3           8          2\n",
       "7    30       2                2           4          2\n",
       "8    53       0                3          30          2\n",
       "9    32       0                1          30          2\n",
       "10   50       0                2          30          2"
      ]
     },
     "execution_count": 63,
     "metadata": {},
     "output_type": "execute_result"
    }
   ],
   "source": [
    "df_federer_demographics['gender']= df_federer_demographics['gender'].map({'Female':1, 'Male':0,'Other':2})\n",
    "df_federer_demographics['Education Level']= df_federer_demographics['Education Level'].map({'High school':1, 'Bachelor':2, 'Master':3, 'Other':0})\n",
    "df_federer_demographics['condition']= df_federer_demographics['condition'].map({'federer_baseline':0, 'federer_question':1, 'federer_narrative':2})\n",
    "df_federer_demographics = df_federer_demographics.replace(np.nan, 0)\n",
    "df_federer_demographics"
   ]
  },
  {
   "cell_type": "code",
   "execution_count": 64,
   "id": "04021f89",
   "metadata": {},
   "outputs": [
    {
     "data": {
      "image/png": "[encoded data removed]",
      "text/plain": [
       "<Figure size 432x288 with 2 Axes>"
      ]
     },
     "metadata": {
      "needs_background": "light"
     },
     "output_type": "display_data"
    },
    {
     "data": {
      "text/plain": [
       "{'corr':                       age    gender  Education Level  quit_index  condition\n",
       " age              1.000000 -0.180191         0.387705    0.248630   0.018487\n",
       " gender          -0.180191  1.000000        -0.099913   -0.091543  -0.040248\n",
       " Education Level  0.387705 -0.099913         1.000000    0.157243   0.338010\n",
       " quit_index       0.248630 -0.091543         0.157243    1.000000   0.308837\n",
       " condition        0.018487 -0.040248         0.338010    0.308837   1.000000,\n",
       " 'ax': <AxesSubplot:>}"
      ]
     },
     "execution_count": 64,
     "metadata": {},
     "output_type": "execute_result"
    }
   ],
   "source": [
    "associations(df_federer_demographics)"
   ]
  },
  {
   "cell_type": "code",
   "execution_count": 65,
   "id": "1b8a2703",
   "metadata": {},
   "outputs": [
    {
     "name": "stdout",
     "output_type": "stream",
     "text": [
      "32 32\n"
     ]
    }
   ],
   "source": [
    "age = df_federer_demographics['age']\n",
    "gender = df_federer_demographics['gender']\n",
    "education = df_federer_demographics['Education Level']\n",
    "y = df_federer_demographics['quit_index']\n",
    "print(len(y), len(gender))"
   ]
  },
  {
   "cell_type": "code",
   "execution_count": 66,
   "id": "5fbc6dd2",
   "metadata": {},
   "outputs": [
    {
     "data": {
      "image/png": "[encoded data removed]",
      "text/plain": [
       "<Figure size 432x288 with 1 Axes>"
      ]
     },
     "metadata": {
      "needs_background": "light"
     },
     "output_type": "display_data"
    }
   ],
   "source": [
    "plt.scatter(gender,y)\n",
    " \n",
    "plt.xlabel('Gender',fontsize = 20)\n",
    " \n",
    "plt.ylabel('Quit index', fontsize = 20)\n",
    " \n",
    "plt.show()"
   ]
  },
  {
   "cell_type": "code",
   "execution_count": 67,
   "id": "d08ec915",
   "metadata": {},
   "outputs": [
    {
     "data": {
      "image/png": "[encoded data removed]",
      "text/plain": [
       "<Figure size 432x288 with 1 Axes>"
      ]
     },
     "metadata": {
      "needs_background": "light"
     },
     "output_type": "display_data"
    }
   ],
   "source": [
    "plt.scatter(age,y)\n",
    " \n",
    "plt.xlabel('Age',fontsize = 20)\n",
    " \n",
    "plt.ylabel('Quit index', fontsize = 20)\n",
    " \n",
    "plt.show()"
   ]
  },
  {
   "cell_type": "code",
   "execution_count": 68,
   "id": "7f83b3fc",
   "metadata": {},
   "outputs": [
    {
     "data": {
      "image/png": "[encoded data removed]",
      "text/plain": [
       "<Figure size 432x288 with 1 Axes>"
      ]
     },
     "metadata": {
      "needs_background": "light"
     },
     "output_type": "display_data"
    }
   ],
   "source": [
    "plt.scatter(education,y)\n",
    " \n",
    "plt.xlabel('Education Level',fontsize = 20)\n",
    " \n",
    "plt.ylabel('Quit index', fontsize = 20)\n",
    " \n",
    "plt.show()"
   ]
  },
  {
   "cell_type": "markdown",
   "id": "39083ba2",
   "metadata": {},
   "source": [
    "## Quit index"
   ]
  },
  {
   "cell_type": "code",
   "execution_count": 69,
   "id": "39ca2dbe",
   "metadata": {},
   "outputs": [
    {
     "name": "stdout",
     "output_type": "stream",
     "text": [
      "beta_hat=[ 4.81600933  0.13380272 -0.55647583 -1.14092844  3.48587525] and n=24\n"
     ]
    }
   ],
   "source": [
    "X = df_federer_demographics[['age', 'gender', 'Education Level', 'condition']].to_numpy()\n",
    "X = np.c_[  np.ones(len(X)), X]\n",
    "\n",
    "y = df_federer_demographics['quit_index'].to_numpy()\n",
    "\n",
    "X_train, X_test, y_train, y_test = train_test_split(X, y, test_size=0.25, random_state=42)\n",
    "n = len(y_train)\n",
    "C = np.linalg.inv(np.matmul(X_train.T, X_train))\n",
    "beta_hat_linear = np.matmul(np.matmul(C, X_train.T), y_train)\n",
    "# np.set_printoptions(precision=4)\n",
    "print(f'beta_hat={beta_hat_linear} and n={n}')"
   ]
  },
  {
   "cell_type": "code",
   "execution_count": 70,
   "id": "f1b35e77",
   "metadata": {},
   "outputs": [
    {
     "name": "stdout",
     "output_type": "stream",
     "text": [
      "MSE=6.888338055195224\n",
      "R_squared=0.1316\n",
      "R_squared_adj=-1.0262\n"
     ]
    }
   ],
   "source": [
    "# SST\n",
    "y_mean = np.mean(y_test)\n",
    "SST = np.sum((y_test - y_mean) ** 2)\n",
    "MST = SST / (n-1)\n",
    "# print(f'MST={MST:.4f} and SST={SST:.4f}')\n",
    "\n",
    "# SSRes\n",
    "y_hat = np.matmul(X_test, beta_hat_linear)\n",
    "e = y_test - y_hat\n",
    "n, p = X_test.shape\n",
    "SS_RES = np.sum(e **2 )\n",
    "MS_RES = SS_RES / (n-p)\n",
    "# print(f'MSRes={MS_RES:.4f} and SSRes={SS_RES:.4f}')\n",
    "\n",
    "# SSR\n",
    "SSR = SST - SS_RES\n",
    "MSR = SSR / (p - 1)\n",
    "# print(f'MSR={MSR:.4f} and SSR={SSR:.4f}')\n",
    "\n",
    "# F test\n",
    "F = MSR / MS_RES\n",
    "p_value = 1 - f.cdf(abs(F), p-1, n-p)\n",
    "# print(f'F={F:.4f} and p-value={p_value:.5f}')\n",
    "R_squared = 1 - SS_RES / SST\n",
    "MSE = R_squared * MST\n",
    "print(f'MSE={MSE}')\n",
    "R_squared_adj = 1 - ((n - 1) / (n - p)) * (1 - R_squared)\n",
    "print(f'R_squared={R_squared:.4f}')\n",
    "print(f'R_squared_adj={R_squared_adj:.4f}')"
   ]
  },
  {
   "cell_type": "code",
   "execution_count": 71,
   "id": "a2bc93f8",
   "metadata": {},
   "outputs": [
    {
     "data": {
      "text/html": [
       "<style type=\"text/css\">\n",
       "</style>\n",
       "<table id=\"T_1cff2\">\n",
       "  <caption>ANOVA</caption>\n",
       "  <thead>\n",
       "    <tr>\n",
       "      <th class=\"blank level0\" >&nbsp;</th>\n",
       "      <th id=\"T_1cff2_level0_col0\" class=\"col_heading level0 col0\" >SS</th>\n",
       "      <th id=\"T_1cff2_level0_col1\" class=\"col_heading level0 col1\" >df</th>\n",
       "      <th id=\"T_1cff2_level0_col2\" class=\"col_heading level0 col2\" >MS</th>\n",
       "      <th id=\"T_1cff2_level0_col3\" class=\"col_heading level0 col3\" >F</th>\n",
       "      <th id=\"T_1cff2_level0_col4\" class=\"col_heading level0 col4\" >p_value</th>\n",
       "    </tr>\n",
       "  </thead>\n",
       "  <tbody>\n",
       "    <tr>\n",
       "      <th id=\"T_1cff2_level0_row0\" class=\"row_heading level0 row0\" >Reg</th>\n",
       "      <td id=\"T_1cff2_row0_col0\" class=\"data row0 col0\" >1203.500000</td>\n",
       "      <td id=\"T_1cff2_row0_col1\" class=\"data row0 col1\" >4</td>\n",
       "      <td id=\"T_1cff2_row0_col2\" class=\"data row0 col2\" >52.326087</td>\n",
       "      <td id=\"T_1cff2_row0_col3\" class=\"data row0 col3\" >0.113700</td>\n",
       "      <td id=\"T_1cff2_row0_col4\" class=\"data row0 col4\" >0.968970</td>\n",
       "    </tr>\n",
       "    <tr>\n",
       "      <th id=\"T_1cff2_level0_row1\" class=\"row_heading level0 row1\" >Res</th>\n",
       "      <td id=\"T_1cff2_row1_col0\" class=\"data row1 col0\" >1045.068225</td>\n",
       "      <td id=\"T_1cff2_row1_col1\" class=\"data row1 col1\" >3</td>\n",
       "      <td id=\"T_1cff2_row1_col2\" class=\"data row1 col2\" >348.356075</td>\n",
       "      <td id=\"T_1cff2_row1_col3\" class=\"data row1 col3\" >nan</td>\n",
       "      <td id=\"T_1cff2_row1_col4\" class=\"data row1 col4\" >nan</td>\n",
       "    </tr>\n",
       "    <tr>\n",
       "      <th id=\"T_1cff2_level0_row2\" class=\"row_heading level0 row2\" >Total</th>\n",
       "      <td id=\"T_1cff2_row2_col0\" class=\"data row2 col0\" >158.431775</td>\n",
       "      <td id=\"T_1cff2_row2_col1\" class=\"data row2 col1\" >7</td>\n",
       "      <td id=\"T_1cff2_row2_col2\" class=\"data row2 col2\" >39.607944</td>\n",
       "      <td id=\"T_1cff2_row2_col3\" class=\"data row2 col3\" >nan</td>\n",
       "      <td id=\"T_1cff2_row2_col4\" class=\"data row2 col4\" >nan</td>\n",
       "    </tr>\n",
       "  </tbody>\n",
       "</table>\n"
      ],
      "text/plain": [
       "<pandas.io.formats.style.Styler at 0x7f8f4d33e6d0>"
      ]
     },
     "execution_count": 71,
     "metadata": {},
     "output_type": "execute_result"
    }
   ],
   "source": [
    "# ANOVA dataframe\n",
    "ANOVA = pd.DataFrame({'SS': [SST, SS_RES, SSR], 'df': [p - 1, n - p, n - 1], 'MS': [MST, MS_RES, MSR], \n",
    "                      'F': [F, None, None], 'p_value': [p_value, None, None]}, index=['Reg', 'Res', 'Total'])\n",
    "ANOVA = ANOVA.style.set_caption(\"ANOVA\")\n",
    "ANOVA"
   ]
  },
  {
   "cell_type": "code",
   "execution_count": 72,
   "id": "e092fdc7",
   "metadata": {},
   "outputs": [
    {
     "data": {
      "image/png": "[encoded data removed]",
      "text/plain": [
       "<Figure size 648x432 with 1 Axes>"
      ]
     },
     "metadata": {
      "needs_background": "light"
     },
     "output_type": "display_data"
    }
   ],
   "source": [
    "min_val = min(min(y_hat), min(e))\n",
    "max_val = max(max(y_hat), max(e))\n",
    "min_y_hat = min(y_hat)\n",
    "max_y_hat = max(y_hat)\n",
    "fig, ax = plt.subplots(figsize=(9,6))\n",
    "fig.suptitle('Residuals $e$ as a function of the prediction $\\hatY$', fontsize=14)\n",
    "ax.plot(y_hat, e, 'o', label='residual data')\n",
    "plt.plot([min_val-1, max_val+1], [0, 0], color='r', label='line e=0')\n",
    "plt.xlim(min_y_hat-1, max_y_hat+1)\n",
    "plt.ylabel('$e$', fontsize=14)\n",
    "plt.xlabel('$\\hatY$', fontsize=14)\n",
    "plt.legend()\n",
    "plt.show();"
   ]
  }
 ],
 "metadata": {
  "kernelspec": {
   "display_name": "Python 3 (ipykernel)",
   "language": "python",
   "name": "python3"
  },
  "language_info": {
   "codemirror_mode": {
    "name": "ipython",
    "version": 3
   },
   "file_extension": ".py",
   "mimetype": "text/x-python",
   "name": "python",
   "nbconvert_exporter": "python",
   "pygments_lexer": "ipython3",
   "version": "3.9.7"
  }
 },
 "nbformat": 4,
 "nbformat_minor": 5
}
